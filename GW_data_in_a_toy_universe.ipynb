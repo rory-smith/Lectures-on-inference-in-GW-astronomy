{
  "nbformat": 4,
  "nbformat_minor": 0,
  "metadata": {
    "colab": {
      "name": "GW data in a toy universe.ipynb",
      "provenance": [],
      "collapsed_sections": [],
      "authorship_tag": "ABX9TyNF6z//nSq4PfoxrYcFp8X+",
      "include_colab_link": true
    },
    "kernelspec": {
      "name": "python3",
      "display_name": "Python 3"
    },
    "language_info": {
      "name": "python"
    }
  },
  "cells": [
    {
      "cell_type": "markdown",
      "metadata": {
        "id": "view-in-github",
        "colab_type": "text"
      },
      "source": [
        "<a href=\"https://colab.research.google.com/github/rory-smith/Lectures-on-inference-in-GW-astronomy/blob/master/GW_data_in_a_toy_universe.ipynb\" target=\"_parent\"><img src=\"https://colab.research.google.com/assets/colab-badge.svg\" alt=\"Open In Colab\"/></a>"
      ]
    },
    {
      "cell_type": "code",
      "execution_count": 4,
      "metadata": {
        "id": "QUYAPUwxoWt2"
      },
      "outputs": [],
      "source": [
        "import requests, os\n",
        "import matplotlib.pyplot as plt\n",
        "%config InlineBackend.figure_format = 'retina'\n"
      ]
    },
    {
      "cell_type": "code",
      "source": [
        "!pip install lalsuite"
      ],
      "metadata": {
        "colab": {
          "base_uri": "https://localhost:8080/"
        },
        "id": "9OlwQTQEMUKn",
        "outputId": "c8207b83-357c-4a32-aad2-686f096afade"
      },
      "execution_count": 5,
      "outputs": [
        {
          "output_type": "stream",
          "name": "stdout",
          "text": [
            "Looking in indexes: https://pypi.org/simple, https://us-python.pkg.dev/colab-wheels/public/simple/\n",
            "Requirement already satisfied: lalsuite in /usr/local/lib/python3.7/dist-packages (7.5)\n",
            "Requirement already satisfied: python-dateutil in /usr/local/lib/python3.7/dist-packages (from lalsuite) (2.8.2)\n",
            "Requirement already satisfied: matplotlib in /usr/local/lib/python3.7/dist-packages (from lalsuite) (3.2.2)\n",
            "Requirement already satisfied: ligo-segments in /usr/local/lib/python3.7/dist-packages (from lalsuite) (1.4.0)\n",
            "Requirement already satisfied: numpy>=1.7 in /usr/local/lib/python3.7/dist-packages (from lalsuite) (1.21.6)\n",
            "Requirement already satisfied: lscsoft-glue in /usr/local/lib/python3.7/dist-packages (from lalsuite) (3.0.1)\n",
            "Requirement already satisfied: scipy in /usr/local/lib/python3.7/dist-packages (from lalsuite) (1.7.3)\n",
            "Requirement already satisfied: six in /usr/local/lib/python3.7/dist-packages (from ligo-segments->lalsuite) (1.15.0)\n",
            "Requirement already satisfied: pyRXP in /usr/local/lib/python3.7/dist-packages (from lscsoft-glue->lalsuite) (3.0.1)\n",
            "Requirement already satisfied: pyOpenSSL in /usr/local/lib/python3.7/dist-packages (from lscsoft-glue->lalsuite) (22.0.0)\n",
            "Requirement already satisfied: cycler>=0.10 in /usr/local/lib/python3.7/dist-packages (from matplotlib->lalsuite) (0.11.0)\n",
            "Requirement already satisfied: pyparsing!=2.0.4,!=2.1.2,!=2.1.6,>=2.0.1 in /usr/local/lib/python3.7/dist-packages (from matplotlib->lalsuite) (3.0.9)\n",
            "Requirement already satisfied: kiwisolver>=1.0.1 in /usr/local/lib/python3.7/dist-packages (from matplotlib->lalsuite) (1.4.3)\n",
            "Requirement already satisfied: typing-extensions in /usr/local/lib/python3.7/dist-packages (from kiwisolver>=1.0.1->matplotlib->lalsuite) (4.1.1)\n",
            "Requirement already satisfied: cryptography>=35.0 in /usr/local/lib/python3.7/dist-packages (from pyOpenSSL->lscsoft-glue->lalsuite) (37.0.4)\n",
            "Requirement already satisfied: cffi>=1.12 in /usr/local/lib/python3.7/dist-packages (from cryptography>=35.0->pyOpenSSL->lscsoft-glue->lalsuite) (1.15.1)\n",
            "Requirement already satisfied: pycparser in /usr/local/lib/python3.7/dist-packages (from cffi>=1.12->cryptography>=35.0->pyOpenSSL->lscsoft-glue->lalsuite) (2.21)\n"
          ]
        }
      ]
    },
    {
      "cell_type": "code",
      "source": [
        "!pip install latex"
      ],
      "metadata": {
        "colab": {
          "base_uri": "https://localhost:8080/"
        },
        "id": "gYbv8JraZgRs",
        "outputId": "5128401f-8f1c-4557-9f79-d5c1c1b48e5b"
      },
      "execution_count": 6,
      "outputs": [
        {
          "output_type": "stream",
          "name": "stdout",
          "text": [
            "Looking in indexes: https://pypi.org/simple, https://us-python.pkg.dev/colab-wheels/public/simple/\n",
            "Requirement already satisfied: latex in /usr/local/lib/python3.7/dist-packages (0.7.0)\n",
            "Requirement already satisfied: shutilwhich in /usr/local/lib/python3.7/dist-packages (from latex) (1.1.0)\n",
            "Requirement already satisfied: data in /usr/local/lib/python3.7/dist-packages (from latex) (0.4)\n",
            "Requirement already satisfied: future in /usr/local/lib/python3.7/dist-packages (from latex) (0.16.0)\n",
            "Requirement already satisfied: tempdir in /usr/local/lib/python3.7/dist-packages (from latex) (0.7.1)\n",
            "Requirement already satisfied: funcsigs in /usr/local/lib/python3.7/dist-packages (from data->latex) (1.0.2)\n",
            "Requirement already satisfied: six in /usr/local/lib/python3.7/dist-packages (from data->latex) (1.15.0)\n",
            "Requirement already satisfied: decorator in /usr/local/lib/python3.7/dist-packages (from data->latex) (4.4.2)\n"
          ]
        }
      ]
    },
    {
      "cell_type": "code",
      "source": [
        "import lalsimulation as lalsim\n",
        "import numpy as np\n",
        "from scipy import stats\n",
        "import pylab as plt\n",
        "import lal\n",
        "import pandas as pd\n",
        "#plt.rcParams['text.usetex'] = True\n",
        "\n",
        "#plt.rcParams.update({\n",
        "#    \"text.usetex\": True,\n",
        "#   \"font.family\": \"sans-serif\",\n",
        "#    \"font.sans-serif\": [\"Helvetica\"]})"
      ],
      "metadata": {
        "id": "uyfBin1GMnCZ"
      },
      "execution_count": 33,
      "outputs": []
    },
    {
      "cell_type": "code",
      "source": [
        "def GW_detector_noise(N):\n",
        "\n",
        "\n",
        "  deltaF = 1/4.\n",
        "  noise_mean = 0\n",
        "  noise_var = lalsim.SimNoisePSDaLIGOZeroDetLowPower(150) / (4*deltaF)\n",
        "\n",
        "  noise_re = np.random.normal(loc=noise_mean, scale=np.sqrt(noise_var), size=int(N))\n",
        "  noise_imag = np.random.normal(loc=noise_mean, scale=np.sqrt(noise_var), size=int(N))\n",
        "\n",
        "  return noise_re + 1j*noise_imag"
      ],
      "metadata": {
        "id": "uSLUiwcpobRF"
      },
      "execution_count": 8,
      "outputs": []
    },
    {
      "cell_type": "code",
      "source": [
        "def draw_mtotal(N):\n",
        "\n",
        "  mtot_min = 30\n",
        "  mtot_max = 100\n",
        "  mtot_mean = 60\n",
        "  mtot_var = 10\n",
        "  a = (mtot_min-mtot_mean)/np.sqrt(mtot_var) # some annoying parameter for scipy function\n",
        "  b = (mtot_max-mtot_mean)/np.sqrt(mtot_var)\n",
        "  return stats.truncnorm.rvs(a, b, loc=mtot_mean, scale=np.sqrt(mtot_var),size=int(N))"
      ],
      "metadata": {
        "id": "PDkbYsm4SttB"
      },
      "execution_count": 9,
      "outputs": []
    },
    {
      "cell_type": "code",
      "source": [
        "# this is all bookkeepy stuff to allow us to evaluate a GW signal at GW frequency of 150Hz #####\n",
        "f = np.array([150])\n",
        "F = f#np.loadtxt(\"Freqs_long.txt\")\n",
        "F = lal.CreateREAL8Vector(len(F))\n",
        "F.data[:] =  f\n",
        "###############################################################################\n",
        "def GW_signal(Mtotal):\n",
        "\n",
        "  mass_ratio = 1 #all binaries in our universe contain equal-mass black holes\n",
        "  Dist = 1e6*lal.lal.PC_SI #all binary black holes are located 0.1Gpc from our detector\n",
        "  spin1x, spin1y, spin1z = 0, 0, 0 #black holes do not spin in our Universe\n",
        "  spin2x, spin2y, spin2z = 0, 0, 0 #black holes do not spin in our Universe\n",
        "  iota = 0 #all BBH obits are inclined such that their orbital plane is \"face on\"\n",
        "\n",
        "  m1, m2 = Mtotal/(1+mass_ratio), Mtotal/(1+mass_ratio)\n",
        "\n",
        "  m1 *= lal.lal.MSUN_SI #component mass into SI units\n",
        "  m2 *= lal.lal.MSUN_SI\n",
        "  WFdict = lal.CreateDict() #bookkeepy thing\n",
        "  h = lalsim.SimIMRPhenomXPHMFrequencySequence(F, m1, m2, spin1x, \\\n",
        "            spin1y, spin1z, spin2x, spin2y, spin2z, Dist, iota, 0, 150, WFdict)\n",
        "  \n",
        "  signal = h[0].data.data + h[1].data.data #equal parts plus and cross polarization\n",
        "  return signal"
      ],
      "metadata": {
        "id": "xr0e-DUpWrkg"
      },
      "execution_count": 148,
      "outputs": []
    },
    {
      "cell_type": "code",
      "source": [
        "GW_signal(30)"
      ],
      "metadata": {
        "colab": {
          "base_uri": "https://localhost:8080/"
        },
        "id": "ZNn7BlRNiPWA",
        "outputId": "eb32cb59-9005-4f34-ce5a-72d1dc67903d"
      },
      "execution_count": 149,
      "outputs": [
        {
          "output_type": "execute_result",
          "data": {
            "text/plain": [
              "array([-2.12103602e-21+2.17551062e-24j])"
            ]
          },
          "metadata": {},
          "execution_count": 149
        }
      ]
    },
    {
      "cell_type": "code",
      "source": [
        "noise_measurements = GW_detector_noise(1e6)"
      ],
      "metadata": {
        "id": "wVk4Ww1CSCg7"
      },
      "execution_count": 150,
      "outputs": []
    },
    {
      "cell_type": "code",
      "source": [
        "BBH_masses = draw_mtotal(1e6)"
      ],
      "metadata": {
        "id": "LBljYIudSGnN"
      },
      "execution_count": 151,
      "outputs": []
    },
    {
      "cell_type": "code",
      "source": [
        "signals = np.array([GW_signal(_m)[0] for _m in BBH_masses])"
      ],
      "metadata": {
        "id": "0bZa9wdlgQvP"
      },
      "execution_count": 152,
      "outputs": []
    },
    {
      "cell_type": "code",
      "source": [
        "strain_data = signals + noise_measurements"
      ],
      "metadata": {
        "id": "u-XkSL8QkyRg"
      },
      "execution_count": 153,
      "outputs": []
    },
    {
      "cell_type": "code",
      "source": [
        "plt.hist(BBH_masses, density=True)\n",
        "plt.xlabel(r\"Total mass of binary black hole systems $(M_{\\odot})$\")\n",
        "plt.title(r\"Probability density of BBH total mass: $\\pi(M_{total})$\")\n",
        "plt.show()"
      ],
      "metadata": {
        "colab": {
          "base_uri": "https://localhost:8080/",
          "height": 297
        },
        "id": "dxRBhR-nUoPY",
        "outputId": "b4307f97-b39d-4fa6-b084-d33b92b68d75"
      },
      "execution_count": 154,
      "outputs": [
        {
          "output_type": "display_data",
          "data": {
            "text/plain": [
              "<Figure size 432x288 with 1 Axes>"
            ],
            "image/png": "[encoded data removed]"
          },
          "metadata": {
            "image/png": {
              "width": 378,
              "height": 280
            },
            "needs_background": "light"
          }
        }
      ]
    },
    {
      "cell_type": "code",
      "source": [
        "## bundle up our data, noise, masses into a pandas data frame \n",
        "_df = {'total mass':BBH_masses, 'strain_data':strain_data, 'noise':noise_measurements}\n",
        "dataframe = pd.DataFrame(data=_df)"
      ],
      "metadata": {
        "id": "r5kPWKBMUrhz"
      },
      "execution_count": 155,
      "outputs": []
    },
    {
      "cell_type": "code",
      "source": [
        "dataframe.round(1)"
      ],
      "metadata": {
        "colab": {
          "base_uri": "https://localhost:8080/",
          "height": 424
        },
        "id": "HW-A8vRhlLjI",
        "outputId": "b0eb9993-3512-4fb9-975d-651a20f9eacb"
      },
      "execution_count": 156,
      "outputs": [
        {
          "output_type": "execute_result",
          "data": {
            "text/plain": [
              "        total mass                 strain_data                       noise\n",
              "0             68.0 -5.112977e-21+4.236115e-23j  7.795233e-24+1.053201e-23j\n",
              "1             60.3 -4.357761e-21+2.390639e-23j  3.910406e-24+2.059480e-24j\n",
              "2             59.9 -4.321599e-21+2.015893e-23j  6.647520e-24-1.310836e-24j\n",
              "3             61.5 -4.480998e-21+1.893626e-23j -4.260658e-24-4.235938e-24j\n",
              "4             62.9 -4.608881e-21+3.066314e-23j -5.396018e-24+5.973027e-24j\n",
              "...            ...                         ...                         ...\n",
              "999995        62.9 -4.609847e-21+3.499628e-23j -5.908883e-24+1.030061e-23j\n",
              "999996        63.0 -4.616055e-21+2.511220e-23j  2.228580e-25+2.649565e-25j\n",
              "999997        63.7 -4.693425e-21+3.022915e-23j -8.270628e-24+4.522137e-24j\n",
              "999998        60.5 -4.389606e-21+2.932851e-23j -8.157846e-24+7.256901e-24j\n",
              "999999        63.5 -4.669964e-21+1.757428e-23j -3.229596e-24-7.900450e-24j\n",
              "\n",
              "[1000000 rows x 3 columns]"
            ],
            "text/html": [
              "\n",
              "  <div id=\"df-6c8795a0-6967-4a5b-ae6f-02065f4f5a5f\">\n",
              "    <div class=\"colab-df-container\">\n",
              "      <div>\n",
              "<style scoped>\n",
              "    .dataframe tbody tr th:only-of-type {\n",
              "        vertical-align: middle;\n",
              "    }\n",
              "\n",
              "    .dataframe tbody tr th {\n",
              "        vertical-align: top;\n",
              "    }\n",
              "\n",
              "    .dataframe thead th {\n",
              "        text-align: right;\n",
              "    }\n",
              "</style>\n",
              "<table border=\"1\" class=\"dataframe\">\n",
              "  <thead>\n",
              "    <tr style=\"text-align: right;\">\n",
              "      <th></th>\n",
              "      <th>total mass</th>\n",
              "      <th>strain_data</th>\n",
              "      <th>noise</th>\n",
              "    </tr>\n",
              "  </thead>\n",
              "  <tbody>\n",
              "    <tr>\n",
              "      <th>0</th>\n",
              "      <td>68.0</td>\n",
              "      <td>-5.112977e-21+4.236115e-23j</td>\n",
              "      <td>7.795233e-24+1.053201e-23j</td>\n",
              "    </tr>\n",
              "    <tr>\n",
              "      <th>1</th>\n",
              "      <td>60.3</td>\n",
              "      <td>-4.357761e-21+2.390639e-23j</td>\n",
              "      <td>3.910406e-24+2.059480e-24j</td>\n",
              "    </tr>\n",
              "    <tr>\n",
              "      <th>2</th>\n",
              "      <td>59.9</td>\n",
              "      <td>-4.321599e-21+2.015893e-23j</td>\n",
              "      <td>6.647520e-24-1.310836e-24j</td>\n",
              "    </tr>\n",
              "    <tr>\n",
              "      <th>3</th>\n",
              "      <td>61.5</td>\n",
              "      <td>-4.480998e-21+1.893626e-23j</td>\n",
              "      <td>-4.260658e-24-4.235938e-24j</td>\n",
              "    </tr>\n",
              "    <tr>\n",
              "      <th>4</th>\n",
              "      <td>62.9</td>\n",
              "      <td>-4.608881e-21+3.066314e-23j</td>\n",
              "      <td>-5.396018e-24+5.973027e-24j</td>\n",
              "    </tr>\n",
              "    <tr>\n",
              "      <th>...</th>\n",
              "      <td>...</td>\n",
              "      <td>...</td>\n",
              "      <td>...</td>\n",
              "    </tr>\n",
              "    <tr>\n",
              "      <th>999995</th>\n",
              "      <td>62.9</td>\n",
              "      <td>-4.609847e-21+3.499628e-23j</td>\n",
              "      <td>-5.908883e-24+1.030061e-23j</td>\n",
              "    </tr>\n",
              "    <tr>\n",
              "      <th>999996</th>\n",
              "      <td>63.0</td>\n",
              "      <td>-4.616055e-21+2.511220e-23j</td>\n",
              "      <td>2.228580e-25+2.649565e-25j</td>\n",
              "    </tr>\n",
              "    <tr>\n",
              "      <th>999997</th>\n",
              "      <td>63.7</td>\n",
              "      <td>-4.693425e-21+3.022915e-23j</td>\n",
              "      <td>-8.270628e-24+4.522137e-24j</td>\n",
              "    </tr>\n",
              "    <tr>\n",
              "      <th>999998</th>\n",
              "      <td>60.5</td>\n",
              "      <td>-4.389606e-21+2.932851e-23j</td>\n",
              "      <td>-8.157846e-24+7.256901e-24j</td>\n",
              "    </tr>\n",
              "    <tr>\n",
              "      <th>999999</th>\n",
              "      <td>63.5</td>\n",
              "      <td>-4.669964e-21+1.757428e-23j</td>\n",
              "      <td>-3.229596e-24-7.900450e-24j</td>\n",
              "    </tr>\n",
              "  </tbody>\n",
              "</table>\n",
              "<p>1000000 rows × 3 columns</p>\n",
              "</div>\n",
              "      <button class=\"colab-df-convert\" onclick=\"convertToInteractive('df-6c8795a0-6967-4a5b-ae6f-02065f4f5a5f')\"\n",
              "              title=\"Convert this dataframe to an interactive table.\"\n",
              "              style=\"display:none;\">\n",
              "        \n",
              "  <svg xmlns=\"http://www.w3.org/2000/svg\" height=\"24px\"viewBox=\"0 0 24 24\"\n",
              "       width=\"24px\">\n",
              "    <path d=\"M0 0h24v24H0V0z\" fill=\"none\"/>\n",
              "    <path d=\"M18.56 5.44l.94 2.06.94-2.06 2.06-.94-2.06-.94-.94-2.06-.94 2.06-2.06.94zm-11 1L8.5 8.5l.94-2.06 2.06-.94-2.06-.94L8.5 2.5l-.94 2.06-2.06.94zm10 10l.94 2.06.94-2.06 2.06-.94-2.06-.94-.94-2.06-.94 2.06-2.06.94z\"/><path d=\"M17.41 7.96l-1.37-1.37c-.4-.4-.92-.59-1.43-.59-.52 0-1.04.2-1.43.59L10.3 9.45l-7.72 7.72c-.78.78-.78 2.05 0 2.83L4 21.41c.39.39.9.59 1.41.59.51 0 1.02-.2 1.41-.59l7.78-7.78 2.81-2.81c.8-.78.8-2.07 0-2.86zM5.41 20L4 18.59l7.72-7.72 1.47 1.35L5.41 20z\"/>\n",
              "  </svg>\n",
              "      </button>\n",
              "      \n",
              "  <style>\n",
              "    .colab-df-container {\n",
              "      display:flex;\n",
              "      flex-wrap:wrap;\n",
              "      gap: 12px;\n",
              "    }\n",
              "\n",
              "    .colab-df-convert {\n",
              "      background-color: #E8F0FE;\n",
              "      border: none;\n",
              "      border-radius: 50%;\n",
              "      cursor: pointer;\n",
              "      display: none;\n",
              "      fill: #1967D2;\n",
              "      height: 32px;\n",
              "      padding: 0 0 0 0;\n",
              "      width: 32px;\n",
              "    }\n",
              "\n",
              "    .colab-df-convert:hover {\n",
              "      background-color: #E2EBFA;\n",
              "      box-shadow: 0px 1px 2px rgba(60, 64, 67, 0.3), 0px 1px 3px 1px rgba(60, 64, 67, 0.15);\n",
              "      fill: #174EA6;\n",
              "    }\n",
              "\n",
              "    [theme=dark] .colab-df-convert {\n",
              "      background-color: #3B4455;\n",
              "      fill: #D2E3FC;\n",
              "    }\n",
              "\n",
              "    [theme=dark] .colab-df-convert:hover {\n",
              "      background-color: #434B5C;\n",
              "      box-shadow: 0px 1px 3px 1px rgba(0, 0, 0, 0.15);\n",
              "      filter: drop-shadow(0px 1px 2px rgba(0, 0, 0, 0.3));\n",
              "      fill: #FFFFFF;\n",
              "    }\n",
              "  </style>\n",
              "\n",
              "      <script>\n",
              "        const buttonEl =\n",
              "          document.querySelector('#df-6c8795a0-6967-4a5b-ae6f-02065f4f5a5f button.colab-df-convert');\n",
              "        buttonEl.style.display =\n",
              "          google.colab.kernel.accessAllowed ? 'block' : 'none';\n",
              "\n",
              "        async function convertToInteractive(key) {\n",
              "          const element = document.querySelector('#df-6c8795a0-6967-4a5b-ae6f-02065f4f5a5f');\n",
              "          const dataTable =\n",
              "            await google.colab.kernel.invokeFunction('convertToInteractive',\n",
              "                                                     [key], {});\n",
              "          if (!dataTable) return;\n",
              "\n",
              "          const docLinkHtml = 'Like what you see? Visit the ' +\n",
              "            '<a target=\"_blank\" href=https://colab.research.google.com/notebooks/data_table.ipynb>data table notebook</a>'\n",
              "            + ' to learn more about interactive tables.';\n",
              "          element.innerHTML = '';\n",
              "          dataTable['output_type'] = 'display_data';\n",
              "          await google.colab.output.renderOutput(dataTable, element);\n",
              "          const docLink = document.createElement('div');\n",
              "          docLink.innerHTML = docLinkHtml;\n",
              "          element.appendChild(docLink);\n",
              "        }\n",
              "      </script>\n",
              "    </div>\n",
              "  </div>\n",
              "  "
            ]
          },
          "metadata": {},
          "execution_count": 156
        }
      ]
    },
    {
      "cell_type": "code",
      "source": [
        "strain_data_new = GW_detector_noise(1) + GW_signal(55)"
      ],
      "metadata": {
        "id": "vvpCdd36tAEd"
      },
      "execution_count": 172,
      "outputs": []
    },
    {
      "cell_type": "code",
      "source": [
        "precision = 22 #number of decimal places to round data\n",
        "\n",
        "idx = np.where(np.around(strain_data,precision)==np.around(strain_data_new, precision))"
      ],
      "metadata": {
        "id": "ekcjGg28va1h"
      },
      "execution_count": 173,
      "outputs": []
    },
    {
      "cell_type": "code",
      "source": [
        "# the part of the dataframe where the strain data equals the new data (to our set precision)\n",
        "lookup_table = dataframe[dataframe.index.isin(idx[0])]"
      ],
      "metadata": {
        "id": "23eK5IiYvxW9"
      },
      "execution_count": 174,
      "outputs": []
    },
    {
      "cell_type": "code",
      "source": [
        "# this contains the total masses that produce strain data equal to what we just \"measured\"\n",
        "# with this, we can estimate the probability of a the total mass given our newly measured data by counting  \n",
        "lookup_table"
      ],
      "metadata": {
        "colab": {
          "base_uri": "https://localhost:8080/",
          "height": 424
        },
        "id": "R-WpZSVPzDcU",
        "outputId": "c9625345-66f5-49fd-ead8-59bfc5b10ce3"
      },
      "execution_count": 175,
      "outputs": [
        {
          "output_type": "execute_result",
          "data": {
            "text/plain": [
              "        total mass                 strain_data                       noise\n",
              "22       54.786153 -3.890579e-21+1.781288e-23j -1.286307e-23+1.214534e-24j\n",
              "68       54.588211 -3.853881e-21+3.277367e-23j  7.278896e-24+1.635010e-23j\n",
              "70       55.092835 -3.911523e-21+1.393583e-23j -8.048555e-24-2.934723e-24j\n",
              "80       55.041296 -3.891173e-21+1.775803e-23j  7.963255e-24+9.333486e-25j\n",
              "93       55.143726 -3.912777e-21+9.640165e-24j -5.015653e-24-7.275737e-24j\n",
              "...            ...                         ...                         ...\n",
              "999812   54.867109 -3.889502e-21+2.476495e-23j -4.999247e-24+8.094903e-24j\n",
              "999911   55.088567 -3.898445e-21+1.808605e-23j  4.669814e-24+1.219292e-24j\n",
              "999919   54.670271 -3.866265e-21+1.006243e-23j  1.751731e-24-6.433522e-24j\n",
              "999985   54.512740 -3.853607e-21+1.633506e-23j  1.255260e-24-2.205051e-26j\n",
              "999988   54.922242 -3.876666e-21+1.971449e-23j  1.246352e-23+2.995551e-24j\n",
              "\n",
              "[44343 rows x 3 columns]"
            ],
            "text/html": [
              "\n",
              "  <div id=\"df-683c2f1e-c832-46c5-bcab-2878fd708e2d\">\n",
              "    <div class=\"colab-df-container\">\n",
              "      <div>\n",
              "<style scoped>\n",
              "    .dataframe tbody tr th:only-of-type {\n",
              "        vertical-align: middle;\n",
              "    }\n",
              "\n",
              "    .dataframe tbody tr th {\n",
              "        vertical-align: top;\n",
              "    }\n",
              "\n",
              "    .dataframe thead th {\n",
              "        text-align: right;\n",
              "    }\n",
              "</style>\n",
              "<table border=\"1\" class=\"dataframe\">\n",
              "  <thead>\n",
              "    <tr style=\"text-align: right;\">\n",
              "      <th></th>\n",
              "      <th>total mass</th>\n",
              "      <th>strain_data</th>\n",
              "      <th>noise</th>\n",
              "    </tr>\n",
              "  </thead>\n",
              "  <tbody>\n",
              "    <tr>\n",
              "      <th>22</th>\n",
              "      <td>54.786153</td>\n",
              "      <td>-3.890579e-21+1.781288e-23j</td>\n",
              "      <td>-1.286307e-23+1.214534e-24j</td>\n",
              "    </tr>\n",
              "    <tr>\n",
              "      <th>68</th>\n",
              "      <td>54.588211</td>\n",
              "      <td>-3.853881e-21+3.277367e-23j</td>\n",
              "      <td>7.278896e-24+1.635010e-23j</td>\n",
              "    </tr>\n",
              "    <tr>\n",
              "      <th>70</th>\n",
              "      <td>55.092835</td>\n",
              "      <td>-3.911523e-21+1.393583e-23j</td>\n",
              "      <td>-8.048555e-24-2.934723e-24j</td>\n",
              "    </tr>\n",
              "    <tr>\n",
              "      <th>80</th>\n",
              "      <td>55.041296</td>\n",
              "      <td>-3.891173e-21+1.775803e-23j</td>\n",
              "      <td>7.963255e-24+9.333486e-25j</td>\n",
              "    </tr>\n",
              "    <tr>\n",
              "      <th>93</th>\n",
              "      <td>55.143726</td>\n",
              "      <td>-3.912777e-21+9.640165e-24j</td>\n",
              "      <td>-5.015653e-24-7.275737e-24j</td>\n",
              "    </tr>\n",
              "    <tr>\n",
              "      <th>...</th>\n",
              "      <td>...</td>\n",
              "      <td>...</td>\n",
              "      <td>...</td>\n",
              "    </tr>\n",
              "    <tr>\n",
              "      <th>999812</th>\n",
              "      <td>54.867109</td>\n",
              "      <td>-3.889502e-21+2.476495e-23j</td>\n",
              "      <td>-4.999247e-24+8.094903e-24j</td>\n",
              "    </tr>\n",
              "    <tr>\n",
              "      <th>999911</th>\n",
              "      <td>55.088567</td>\n",
              "      <td>-3.898445e-21+1.808605e-23j</td>\n",
              "      <td>4.669814e-24+1.219292e-24j</td>\n",
              "    </tr>\n",
              "    <tr>\n",
              "      <th>999919</th>\n",
              "      <td>54.670271</td>\n",
              "      <td>-3.866265e-21+1.006243e-23j</td>\n",
              "      <td>1.751731e-24-6.433522e-24j</td>\n",
              "    </tr>\n",
              "    <tr>\n",
              "      <th>999985</th>\n",
              "      <td>54.512740</td>\n",
              "      <td>-3.853607e-21+1.633506e-23j</td>\n",
              "      <td>1.255260e-24-2.205051e-26j</td>\n",
              "    </tr>\n",
              "    <tr>\n",
              "      <th>999988</th>\n",
              "      <td>54.922242</td>\n",
              "      <td>-3.876666e-21+1.971449e-23j</td>\n",
              "      <td>1.246352e-23+2.995551e-24j</td>\n",
              "    </tr>\n",
              "  </tbody>\n",
              "</table>\n",
              "<p>44343 rows × 3 columns</p>\n",
              "</div>\n",
              "      <button class=\"colab-df-convert\" onclick=\"convertToInteractive('df-683c2f1e-c832-46c5-bcab-2878fd708e2d')\"\n",
              "              title=\"Convert this dataframe to an interactive table.\"\n",
              "              style=\"display:none;\">\n",
              "        \n",
              "  <svg xmlns=\"http://www.w3.org/2000/svg\" height=\"24px\"viewBox=\"0 0 24 24\"\n",
              "       width=\"24px\">\n",
              "    <path d=\"M0 0h24v24H0V0z\" fill=\"none\"/>\n",
              "    <path d=\"M18.56 5.44l.94 2.06.94-2.06 2.06-.94-2.06-.94-.94-2.06-.94 2.06-2.06.94zm-11 1L8.5 8.5l.94-2.06 2.06-.94-2.06-.94L8.5 2.5l-.94 2.06-2.06.94zm10 10l.94 2.06.94-2.06 2.06-.94-2.06-.94-.94-2.06-.94 2.06-2.06.94z\"/><path d=\"M17.41 7.96l-1.37-1.37c-.4-.4-.92-.59-1.43-.59-.52 0-1.04.2-1.43.59L10.3 9.45l-7.72 7.72c-.78.78-.78 2.05 0 2.83L4 21.41c.39.39.9.59 1.41.59.51 0 1.02-.2 1.41-.59l7.78-7.78 2.81-2.81c.8-.78.8-2.07 0-2.86zM5.41 20L4 18.59l7.72-7.72 1.47 1.35L5.41 20z\"/>\n",
              "  </svg>\n",
              "      </button>\n",
              "      \n",
              "  <style>\n",
              "    .colab-df-container {\n",
              "      display:flex;\n",
              "      flex-wrap:wrap;\n",
              "      gap: 12px;\n",
              "    }\n",
              "\n",
              "    .colab-df-convert {\n",
              "      background-color: #E8F0FE;\n",
              "      border: none;\n",
              "      border-radius: 50%;\n",
              "      cursor: pointer;\n",
              "      display: none;\n",
              "      fill: #1967D2;\n",
              "      height: 32px;\n",
              "      padding: 0 0 0 0;\n",
              "      width: 32px;\n",
              "    }\n",
              "\n",
              "    .colab-df-convert:hover {\n",
              "      background-color: #E2EBFA;\n",
              "      box-shadow: 0px 1px 2px rgba(60, 64, 67, 0.3), 0px 1px 3px 1px rgba(60, 64, 67, 0.15);\n",
              "      fill: #174EA6;\n",
              "    }\n",
              "\n",
              "    [theme=dark] .colab-df-convert {\n",
              "      background-color: #3B4455;\n",
              "      fill: #D2E3FC;\n",
              "    }\n",
              "\n",
              "    [theme=dark] .colab-df-convert:hover {\n",
              "      background-color: #434B5C;\n",
              "      box-shadow: 0px 1px 3px 1px rgba(0, 0, 0, 0.15);\n",
              "      filter: drop-shadow(0px 1px 2px rgba(0, 0, 0, 0.3));\n",
              "      fill: #FFFFFF;\n",
              "    }\n",
              "  </style>\n",
              "\n",
              "      <script>\n",
              "        const buttonEl =\n",
              "          document.querySelector('#df-683c2f1e-c832-46c5-bcab-2878fd708e2d button.colab-df-convert');\n",
              "        buttonEl.style.display =\n",
              "          google.colab.kernel.accessAllowed ? 'block' : 'none';\n",
              "\n",
              "        async function convertToInteractive(key) {\n",
              "          const element = document.querySelector('#df-683c2f1e-c832-46c5-bcab-2878fd708e2d');\n",
              "          const dataTable =\n",
              "            await google.colab.kernel.invokeFunction('convertToInteractive',\n",
              "                                                     [key], {});\n",
              "          if (!dataTable) return;\n",
              "\n",
              "          const docLinkHtml = 'Like what you see? Visit the ' +\n",
              "            '<a target=\"_blank\" href=https://colab.research.google.com/notebooks/data_table.ipynb>data table notebook</a>'\n",
              "            + ' to learn more about interactive tables.';\n",
              "          element.innerHTML = '';\n",
              "          dataTable['output_type'] = 'display_data';\n",
              "          await google.colab.output.renderOutput(dataTable, element);\n",
              "          const docLink = document.createElement('div');\n",
              "          docLink.innerHTML = docLinkHtml;\n",
              "          element.appendChild(docLink);\n",
              "        }\n",
              "      </script>\n",
              "    </div>\n",
              "  </div>\n",
              "  "
            ]
          },
          "metadata": {},
          "execution_count": 175
        }
      ]
    },
    {
      "cell_type": "code",
      "source": [
        "plt.hist(lookup_table['total mass'],density=True,bins='auto')\n",
        "plt.show()"
      ],
      "metadata": {
        "colab": {
          "base_uri": "https://localhost:8080/",
          "height": 265
        },
        "id": "hnHci5jbwCmu",
        "outputId": "9738f7be-75f8-4162-f711-e82bad16dd1c"
      },
      "execution_count": 180,
      "outputs": [
        {
          "output_type": "display_data",
          "data": {
            "text/plain": [
              "<Figure size 432x288 with 1 Axes>"
            ],
            "image/png": "[encoded data removed]"
          },
          "metadata": {
            "image/png": {
              "width": 379,
              "height": 248
            },
            "needs_background": "light"
          }
        }
      ]
    },
    {
      "cell_type": "code",
      "source": [
        "def lnL(d,mtotal):\n",
        "  deltaF = 1/4.\n",
        "  noise_mean = 0\n",
        "  noise_var = lalsim.SimNoisePSDaLIGOZeroDetLowPower(150) / (4*deltaF)\n",
        "\n",
        "  signal = GW_signal(mtotal)[0]\n",
        "  return stats.norm.logpdf(d, loc=signal, scale=np.sqrt(noise_var))\n",
        "\n",
        "def lnpi(mtotal):\n",
        "\n",
        "  return "
      ],
      "metadata": {
        "id": "MSkt3xLJwv_M"
      },
      "execution_count": 182,
      "outputs": []
    },
    {
      "cell_type": "code",
      "source": [
        ""
      ],
      "metadata": {
        "id": "gHSurG0T12ZW"
      },
      "execution_count": null,
      "outputs": []
    }
  ]
}