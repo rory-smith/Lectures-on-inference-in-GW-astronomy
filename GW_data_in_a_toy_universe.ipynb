{
  "nbformat": 4,
  "nbformat_minor": 0,
  "metadata": {
    "colab": {
      "name": "GW data in a toy universe.ipynb",
      "provenance": [],
      "collapsed_sections": [],
      "authorship_tag": "ABX9TyOn2fpg0Szw7j9g0XiwByJg",
      "include_colab_link": true
    },
    "kernelspec": {
      "name": "python3",
      "display_name": "Python 3"
    },
    "language_info": {
      "name": "python"
    }
  },
  "cells": [
    {
      "cell_type": "markdown",
      "metadata": {
        "id": "view-in-github",
        "colab_type": "text"
      },
      "source": [
        "<a href=\"https://colab.research.google.com/github/rory-smith/Lectures-on-inference-in-GW-astronomy/blob/master/GW_data_in_a_toy_universe.ipynb\" target=\"_parent\"><img src=\"https://colab.research.google.com/assets/colab-badge.svg\" alt=\"Open In Colab\"/></a>"
      ]
    },
    {
      "cell_type": "code",
      "execution_count": 222,
      "metadata": {
        "id": "QUYAPUwxoWt2"
      },
      "outputs": [],
      "source": [
        "import requests, os\n",
        "import matplotlib.pyplot as plt\n",
        "%config InlineBackend.figure_format = 'retina'\n"
      ]
    },
    {
      "cell_type": "code",
      "source": [
        "!pip install lalsuite"
      ],
      "metadata": {
        "colab": {
          "base_uri": "https://localhost:8080/"
        },
        "id": "9OlwQTQEMUKn",
        "outputId": "c8207b83-357c-4a32-aad2-686f096afade"
      },
      "execution_count": 5,
      "outputs": [
        {
          "output_type": "stream",
          "name": "stdout",
          "text": [
            "Looking in indexes: https://pypi.org/simple, https://us-python.pkg.dev/colab-wheels/public/simple/\n",
            "Requirement already satisfied: lalsuite in /usr/local/lib/python3.7/dist-packages (7.5)\n",
            "Requirement already satisfied: python-dateutil in /usr/local/lib/python3.7/dist-packages (from lalsuite) (2.8.2)\n",
            "Requirement already satisfied: matplotlib in /usr/local/lib/python3.7/dist-packages (from lalsuite) (3.2.2)\n",
            "Requirement already satisfied: ligo-segments in /usr/local/lib/python3.7/dist-packages (from lalsuite) (1.4.0)\n",
            "Requirement already satisfied: numpy>=1.7 in /usr/local/lib/python3.7/dist-packages (from lalsuite) (1.21.6)\n",
            "Requirement already satisfied: lscsoft-glue in /usr/local/lib/python3.7/dist-packages (from lalsuite) (3.0.1)\n",
            "Requirement already satisfied: scipy in /usr/local/lib/python3.7/dist-packages (from lalsuite) (1.7.3)\n",
            "Requirement already satisfied: six in /usr/local/lib/python3.7/dist-packages (from ligo-segments->lalsuite) (1.15.0)\n",
            "Requirement already satisfied: pyRXP in /usr/local/lib/python3.7/dist-packages (from lscsoft-glue->lalsuite) (3.0.1)\n",
            "Requirement already satisfied: pyOpenSSL in /usr/local/lib/python3.7/dist-packages (from lscsoft-glue->lalsuite) (22.0.0)\n",
            "Requirement already satisfied: cycler>=0.10 in /usr/local/lib/python3.7/dist-packages (from matplotlib->lalsuite) (0.11.0)\n",
            "Requirement already satisfied: pyparsing!=2.0.4,!=2.1.2,!=2.1.6,>=2.0.1 in /usr/local/lib/python3.7/dist-packages (from matplotlib->lalsuite) (3.0.9)\n",
            "Requirement already satisfied: kiwisolver>=1.0.1 in /usr/local/lib/python3.7/dist-packages (from matplotlib->lalsuite) (1.4.3)\n",
            "Requirement already satisfied: typing-extensions in /usr/local/lib/python3.7/dist-packages (from kiwisolver>=1.0.1->matplotlib->lalsuite) (4.1.1)\n",
            "Requirement already satisfied: cryptography>=35.0 in /usr/local/lib/python3.7/dist-packages (from pyOpenSSL->lscsoft-glue->lalsuite) (37.0.4)\n",
            "Requirement already satisfied: cffi>=1.12 in /usr/local/lib/python3.7/dist-packages (from cryptography>=35.0->pyOpenSSL->lscsoft-glue->lalsuite) (1.15.1)\n",
            "Requirement already satisfied: pycparser in /usr/local/lib/python3.7/dist-packages (from cffi>=1.12->cryptography>=35.0->pyOpenSSL->lscsoft-glue->lalsuite) (2.21)\n"
          ]
        }
      ]
    },
    {
      "cell_type": "code",
      "source": [
        "!pip install latex"
      ],
      "metadata": {
        "colab": {
          "base_uri": "https://localhost:8080/"
        },
        "id": "gYbv8JraZgRs",
        "outputId": "5128401f-8f1c-4557-9f79-d5c1c1b48e5b"
      },
      "execution_count": 6,
      "outputs": [
        {
          "output_type": "stream",
          "name": "stdout",
          "text": [
            "Looking in indexes: https://pypi.org/simple, https://us-python.pkg.dev/colab-wheels/public/simple/\n",
            "Requirement already satisfied: latex in /usr/local/lib/python3.7/dist-packages (0.7.0)\n",
            "Requirement already satisfied: shutilwhich in /usr/local/lib/python3.7/dist-packages (from latex) (1.1.0)\n",
            "Requirement already satisfied: data in /usr/local/lib/python3.7/dist-packages (from latex) (0.4)\n",
            "Requirement already satisfied: future in /usr/local/lib/python3.7/dist-packages (from latex) (0.16.0)\n",
            "Requirement already satisfied: tempdir in /usr/local/lib/python3.7/dist-packages (from latex) (0.7.1)\n",
            "Requirement already satisfied: funcsigs in /usr/local/lib/python3.7/dist-packages (from data->latex) (1.0.2)\n",
            "Requirement already satisfied: six in /usr/local/lib/python3.7/dist-packages (from data->latex) (1.15.0)\n",
            "Requirement already satisfied: decorator in /usr/local/lib/python3.7/dist-packages (from data->latex) (4.4.2)\n"
          ]
        }
      ]
    },
    {
      "cell_type": "code",
      "source": [
        "import lalsimulation as lalsim\n",
        "import numpy as np\n",
        "from scipy import stats\n",
        "import pylab as plt\n",
        "import lal\n",
        "import pandas as pd\n",
        "from scipy.special import logsumexp\n",
        "#plt.rcParams['text.usetex'] = True\n",
        "\n",
        "#plt.rcParams.update({\n",
        "#    \"text.usetex\": True,\n",
        "#   \"font.family\": \"sans-serif\",\n",
        "#    \"font.sans-serif\": [\"Helvetica\"]})"
      ],
      "metadata": {
        "id": "uyfBin1GMnCZ"
      },
      "execution_count": 223,
      "outputs": []
    },
    {
      "cell_type": "code",
      "source": [
        "def GW_detector_noise(N):\n",
        "\n",
        "\n",
        "  deltaF = 1/4.\n",
        "  noise_mean = 0\n",
        "  noise_var = lalsim.SimNoisePSDaLIGOZeroDetLowPower(150) / (4*deltaF)\n",
        "\n",
        "  noise_re = np.random.normal(loc=noise_mean, scale=np.sqrt(noise_var), size=int(N))\n",
        "  noise_imag = np.random.normal(loc=noise_mean, scale=np.sqrt(noise_var), size=int(N))\n",
        "\n",
        "  return noise_re + 1j*noise_imag"
      ],
      "metadata": {
        "id": "uSLUiwcpobRF"
      },
      "execution_count": 224,
      "outputs": []
    },
    {
      "cell_type": "code",
      "source": [
        "def draw_mtotal(N):\n",
        "\n",
        "  mtot_min = 30\n",
        "  mtot_max = 100\n",
        "  mtot_mean = 60\n",
        "  mtot_var = 10\n",
        "  a = (mtot_min-mtot_mean)/np.sqrt(mtot_var) # some annoying parameter for scipy function\n",
        "  b = (mtot_max-mtot_mean)/np.sqrt(mtot_var)\n",
        "  return stats.truncnorm.rvs(a, b, loc=mtot_mean, scale=np.sqrt(mtot_var),size=int(N))"
      ],
      "metadata": {
        "id": "PDkbYsm4SttB"
      },
      "execution_count": 225,
      "outputs": []
    },
    {
      "cell_type": "code",
      "source": [
        "# this is all bookkeepy stuff to allow us to evaluate a GW signal at GW frequency of 150Hz #####\n",
        "f = np.array([150])\n",
        "F = f#np.loadtxt(\"Freqs_long.txt\")\n",
        "F = lal.CreateREAL8Vector(len(F))\n",
        "F.data[:] =  f\n",
        "###############################################################################\n",
        "def GW_signal(Mtotal):\n",
        "\n",
        "  mass_ratio = 1 #all binaries in our universe contain equal-mass black holes\n",
        "  Dist = 1e6*lal.lal.PC_SI #all binary black holes are located 0.1Gpc from our detector\n",
        "  spin1x, spin1y, spin1z = 0, 0, 0 #black holes do not spin in our Universe\n",
        "  spin2x, spin2y, spin2z = 0, 0, 0 #black holes do not spin in our Universe\n",
        "  iota = 0 #all BBH obits are inclined such that their orbital plane is \"face on\"\n",
        "\n",
        "  m1, m2 = Mtotal/(1+mass_ratio), Mtotal/(1+mass_ratio)\n",
        "\n",
        "  m1 *= lal.lal.MSUN_SI #component mass into SI units\n",
        "  m2 *= lal.lal.MSUN_SI\n",
        "  WFdict = lal.CreateDict() #bookkeepy thing\n",
        "  h = lalsim.SimIMRPhenomXPHMFrequencySequence(F, m1, m2, spin1x, \\\n",
        "            spin1y, spin1z, spin2x, spin2y, spin2z, Dist, iota, 0, 150, WFdict)\n",
        "  \n",
        "  signal = h[0].data.data + h[1].data.data #equal parts plus and cross polarization\n",
        "  return signal"
      ],
      "metadata": {
        "id": "xr0e-DUpWrkg"
      },
      "execution_count": 226,
      "outputs": []
    },
    {
      "cell_type": "code",
      "source": [
        "noise_measurements = GW_detector_noise(5e6)"
      ],
      "metadata": {
        "id": "wVk4Ww1CSCg7"
      },
      "execution_count": 245,
      "outputs": []
    },
    {
      "cell_type": "code",
      "source": [
        "BBH_masses = draw_mtotal(5e6)"
      ],
      "metadata": {
        "id": "LBljYIudSGnN"
      },
      "execution_count": 246,
      "outputs": []
    },
    {
      "cell_type": "code",
      "source": [
        "signals = np.array([GW_signal(_m)[0] for _m in BBH_masses])"
      ],
      "metadata": {
        "id": "0bZa9wdlgQvP"
      },
      "execution_count": 247,
      "outputs": []
    },
    {
      "cell_type": "code",
      "source": [
        "strain_data = signals + noise_measurements"
      ],
      "metadata": {
        "id": "u-XkSL8QkyRg"
      },
      "execution_count": 248,
      "outputs": []
    },
    {
      "cell_type": "code",
      "source": [
        "plt.hist(BBH_masses, density=True)\n",
        "plt.xlabel(r\"Total mass of binary black hole systems $(M_{\\odot})$\")\n",
        "plt.title(r\"Probability density of BBH total mass: $\\pi(M_{total})$\")\n",
        "plt.show()"
      ],
      "metadata": {
        "colab": {
          "base_uri": "https://localhost:8080/",
          "height": 297
        },
        "id": "dxRBhR-nUoPY",
        "outputId": "48623370-7c6e-4213-83ad-364fc3209405"
      },
      "execution_count": 249,
      "outputs": [
        {
          "output_type": "display_data",
          "data": {
            "text/plain": [
              "<Figure size 432x288 with 1 Axes>"
            ],
            "image/png": "[encoded data removed]"
          },
          "metadata": {
            "image/png": {
              "width": 378,
              "height": 280
            },
            "needs_background": "light"
          }
        }
      ]
    },
    {
      "cell_type": "code",
      "source": [
        "## bundle up our data, noise, masses into a pandas data frame \n",
        "_df = {'total mass':BBH_masses, 'strain_data':strain_data, 'noise':noise_measurements}\n",
        "dataframe = pd.DataFrame(data=_df)"
      ],
      "metadata": {
        "id": "r5kPWKBMUrhz"
      },
      "execution_count": 250,
      "outputs": []
    },
    {
      "cell_type": "code",
      "source": [
        "dataframe"
      ],
      "metadata": {
        "colab": {
          "base_uri": "https://localhost:8080/",
          "height": 424
        },
        "id": "BcXildGTJztI",
        "outputId": "8b1e63ce-be39-4640-93f5-6cc64479e531"
      },
      "execution_count": 251,
      "outputs": [
        {
          "output_type": "execute_result",
          "data": {
            "text/plain": [
              "         total mass                 strain_data                       noise\n",
              "0         57.726832 -4.133063e-21+1.263582e-23j -2.795013e-24-6.655436e-24j\n",
              "1         64.188565 -4.735644e-21+3.045352e-23j -2.980832e-24+4.138991e-24j\n",
              "2         57.305838 -4.085451e-21+5.497663e-24j  7.880106e-24-1.339533e-23j\n",
              "3         59.245109 -4.258897e-21+8.150264e-24j  6.838993e-24-1.262227e-23j\n",
              "4         54.763213 -3.863837e-21+2.062228e-23j  1.195758e-23+4.044228e-24j\n",
              "...             ...                         ...                         ...\n",
              "4999995   56.169565 -3.995202e-21+1.526930e-23j -2.420767e-25-2.571559e-24j\n",
              "4999996   58.894147 -4.224474e-21+1.468498e-23j  9.628349e-24-5.738320e-24j\n",
              "4999997   59.358623 -4.279922e-21+3.169139e-23j -3.912775e-24+1.080495e-23j\n",
              "4999998   63.091405 -4.622217e-21+1.618481e-23j  3.284817e-24-8.776208e-24j\n",
              "4999999   65.010743 -4.807856e-21+2.930297e-23j  6.467174e-24+1.914016e-24j\n",
              "\n",
              "[5000000 rows x 3 columns]"
            ],
            "text/html": [
              "\n",
              "  <div id=\"df-44975da7-ca11-47ca-9cf3-87a4d2b5232c\">\n",
              "    <div class=\"colab-df-container\">\n",
              "      <div>\n",
              "<style scoped>\n",
              "    .dataframe tbody tr th:only-of-type {\n",
              "        vertical-align: middle;\n",
              "    }\n",
              "\n",
              "    .dataframe tbody tr th {\n",
              "        vertical-align: top;\n",
              "    }\n",
              "\n",
              "    .dataframe thead th {\n",
              "        text-align: right;\n",
              "    }\n",
              "</style>\n",
              "<table border=\"1\" class=\"dataframe\">\n",
              "  <thead>\n",
              "    <tr style=\"text-align: right;\">\n",
              "      <th></th>\n",
              "      <th>total mass</th>\n",
              "      <th>strain_data</th>\n",
              "      <th>noise</th>\n",
              "    </tr>\n",
              "  </thead>\n",
              "  <tbody>\n",
              "    <tr>\n",
              "      <th>0</th>\n",
              "      <td>57.726832</td>\n",
              "      <td>-4.133063e-21+1.263582e-23j</td>\n",
              "      <td>-2.795013e-24-6.655436e-24j</td>\n",
              "    </tr>\n",
              "    <tr>\n",
              "      <th>1</th>\n",
              "      <td>64.188565</td>\n",
              "      <td>-4.735644e-21+3.045352e-23j</td>\n",
              "      <td>-2.980832e-24+4.138991e-24j</td>\n",
              "    </tr>\n",
              "    <tr>\n",
              "      <th>2</th>\n",
              "      <td>57.305838</td>\n",
              "      <td>-4.085451e-21+5.497663e-24j</td>\n",
              "      <td>7.880106e-24-1.339533e-23j</td>\n",
              "    </tr>\n",
              "    <tr>\n",
              "      <th>3</th>\n",
              "      <td>59.245109</td>\n",
              "      <td>-4.258897e-21+8.150264e-24j</td>\n",
              "      <td>6.838993e-24-1.262227e-23j</td>\n",
              "    </tr>\n",
              "    <tr>\n",
              "      <th>4</th>\n",
              "      <td>54.763213</td>\n",
              "      <td>-3.863837e-21+2.062228e-23j</td>\n",
              "      <td>1.195758e-23+4.044228e-24j</td>\n",
              "    </tr>\n",
              "    <tr>\n",
              "      <th>...</th>\n",
              "      <td>...</td>\n",
              "      <td>...</td>\n",
              "      <td>...</td>\n",
              "    </tr>\n",
              "    <tr>\n",
              "      <th>4999995</th>\n",
              "      <td>56.169565</td>\n",
              "      <td>-3.995202e-21+1.526930e-23j</td>\n",
              "      <td>-2.420767e-25-2.571559e-24j</td>\n",
              "    </tr>\n",
              "    <tr>\n",
              "      <th>4999996</th>\n",
              "      <td>58.894147</td>\n",
              "      <td>-4.224474e-21+1.468498e-23j</td>\n",
              "      <td>9.628349e-24-5.738320e-24j</td>\n",
              "    </tr>\n",
              "    <tr>\n",
              "      <th>4999997</th>\n",
              "      <td>59.358623</td>\n",
              "      <td>-4.279922e-21+3.169139e-23j</td>\n",
              "      <td>-3.912775e-24+1.080495e-23j</td>\n",
              "    </tr>\n",
              "    <tr>\n",
              "      <th>4999998</th>\n",
              "      <td>63.091405</td>\n",
              "      <td>-4.622217e-21+1.618481e-23j</td>\n",
              "      <td>3.284817e-24-8.776208e-24j</td>\n",
              "    </tr>\n",
              "    <tr>\n",
              "      <th>4999999</th>\n",
              "      <td>65.010743</td>\n",
              "      <td>-4.807856e-21+2.930297e-23j</td>\n",
              "      <td>6.467174e-24+1.914016e-24j</td>\n",
              "    </tr>\n",
              "  </tbody>\n",
              "</table>\n",
              "<p>5000000 rows × 3 columns</p>\n",
              "</div>\n",
              "      <button class=\"colab-df-convert\" onclick=\"convertToInteractive('df-44975da7-ca11-47ca-9cf3-87a4d2b5232c')\"\n",
              "              title=\"Convert this dataframe to an interactive table.\"\n",
              "              style=\"display:none;\">\n",
              "        \n",
              "  <svg xmlns=\"http://www.w3.org/2000/svg\" height=\"24px\"viewBox=\"0 0 24 24\"\n",
              "       width=\"24px\">\n",
              "    <path d=\"M0 0h24v24H0V0z\" fill=\"none\"/>\n",
              "    <path d=\"M18.56 5.44l.94 2.06.94-2.06 2.06-.94-2.06-.94-.94-2.06-.94 2.06-2.06.94zm-11 1L8.5 8.5l.94-2.06 2.06-.94-2.06-.94L8.5 2.5l-.94 2.06-2.06.94zm10 10l.94 2.06.94-2.06 2.06-.94-2.06-.94-.94-2.06-.94 2.06-2.06.94z\"/><path d=\"M17.41 7.96l-1.37-1.37c-.4-.4-.92-.59-1.43-.59-.52 0-1.04.2-1.43.59L10.3 9.45l-7.72 7.72c-.78.78-.78 2.05 0 2.83L4 21.41c.39.39.9.59 1.41.59.51 0 1.02-.2 1.41-.59l7.78-7.78 2.81-2.81c.8-.78.8-2.07 0-2.86zM5.41 20L4 18.59l7.72-7.72 1.47 1.35L5.41 20z\"/>\n",
              "  </svg>\n",
              "      </button>\n",
              "      \n",
              "  <style>\n",
              "    .colab-df-container {\n",
              "      display:flex;\n",
              "      flex-wrap:wrap;\n",
              "      gap: 12px;\n",
              "    }\n",
              "\n",
              "    .colab-df-convert {\n",
              "      background-color: #E8F0FE;\n",
              "      border: none;\n",
              "      border-radius: 50%;\n",
              "      cursor: pointer;\n",
              "      display: none;\n",
              "      fill: #1967D2;\n",
              "      height: 32px;\n",
              "      padding: 0 0 0 0;\n",
              "      width: 32px;\n",
              "    }\n",
              "\n",
              "    .colab-df-convert:hover {\n",
              "      background-color: #E2EBFA;\n",
              "      box-shadow: 0px 1px 2px rgba(60, 64, 67, 0.3), 0px 1px 3px 1px rgba(60, 64, 67, 0.15);\n",
              "      fill: #174EA6;\n",
              "    }\n",
              "\n",
              "    [theme=dark] .colab-df-convert {\n",
              "      background-color: #3B4455;\n",
              "      fill: #D2E3FC;\n",
              "    }\n",
              "\n",
              "    [theme=dark] .colab-df-convert:hover {\n",
              "      background-color: #434B5C;\n",
              "      box-shadow: 0px 1px 3px 1px rgba(0, 0, 0, 0.15);\n",
              "      filter: drop-shadow(0px 1px 2px rgba(0, 0, 0, 0.3));\n",
              "      fill: #FFFFFF;\n",
              "    }\n",
              "  </style>\n",
              "\n",
              "      <script>\n",
              "        const buttonEl =\n",
              "          document.querySelector('#df-44975da7-ca11-47ca-9cf3-87a4d2b5232c button.colab-df-convert');\n",
              "        buttonEl.style.display =\n",
              "          google.colab.kernel.accessAllowed ? 'block' : 'none';\n",
              "\n",
              "        async function convertToInteractive(key) {\n",
              "          const element = document.querySelector('#df-44975da7-ca11-47ca-9cf3-87a4d2b5232c');\n",
              "          const dataTable =\n",
              "            await google.colab.kernel.invokeFunction('convertToInteractive',\n",
              "                                                     [key], {});\n",
              "          if (!dataTable) return;\n",
              "\n",
              "          const docLinkHtml = 'Like what you see? Visit the ' +\n",
              "            '<a target=\"_blank\" href=https://colab.research.google.com/notebooks/data_table.ipynb>data table notebook</a>'\n",
              "            + ' to learn more about interactive tables.';\n",
              "          element.innerHTML = '';\n",
              "          dataTable['output_type'] = 'display_data';\n",
              "          await google.colab.output.renderOutput(dataTable, element);\n",
              "          const docLink = document.createElement('div');\n",
              "          docLink.innerHTML = docLinkHtml;\n",
              "          element.appendChild(docLink);\n",
              "        }\n",
              "      </script>\n",
              "    </div>\n",
              "  </div>\n",
              "  "
            ]
          },
          "metadata": {},
          "execution_count": 251
        }
      ]
    },
    {
      "cell_type": "code",
      "source": [
        "strain_data_new = GW_detector_noise(1) + GW_signal(55)"
      ],
      "metadata": {
        "id": "vvpCdd36tAEd"
      },
      "execution_count": 252,
      "outputs": []
    },
    {
      "cell_type": "code",
      "source": [
        "precision = 24 #number of decimal places to round data\n",
        "\n",
        "idx = np.where(np.around(strain_data,precision)==np.around(strain_data_new, precision))"
      ],
      "metadata": {
        "id": "ekcjGg28va1h"
      },
      "execution_count": 262,
      "outputs": []
    },
    {
      "cell_type": "code",
      "source": [
        "# the part of the dataframe where the strain data equals the new data (to our set precision)\n",
        "lookup_table = dataframe[dataframe.index.isin(idx[0])]"
      ],
      "metadata": {
        "id": "23eK5IiYvxW9"
      },
      "execution_count": 263,
      "outputs": []
    },
    {
      "cell_type": "code",
      "source": [
        "# this contains the total masses that produce strain data equal to what we just \"measured\"\n",
        "# with this, we can estimate the probability of a the total mass given our newly measured data by counting  \n",
        "lookup_table"
      ],
      "metadata": {
        "colab": {
          "base_uri": "https://localhost:8080/",
          "height": 424
        },
        "id": "R-WpZSVPzDcU",
        "outputId": "7bdf3c2a-fe2b-4ce5-9c9c-7298252a804f"
      },
      "execution_count": 264,
      "outputs": [
        {
          "output_type": "execute_result",
          "data": {
            "text/plain": [
              "         total mass                 strain_data                       noise\n",
              "9403      55.134752 -3.913296e-21+2.041617e-23j -6.291493e-24+3.508267e-24j\n",
              "62276     55.118848 -3.913194e-21+1.967524e-23j -7.529141e-24+2.781526e-24j\n",
              "73562     55.201606 -3.913431e-21+1.953096e-23j -7.900969e-25+2.563434e-24j\n",
              "115891    55.096093 -3.913246e-21+2.032747e-23j -9.497504e-24+3.454008e-24j\n",
              "188724    55.230513 -3.913138e-21+1.962137e-23j  1.942018e-24+2.628040e-24j\n",
              "...             ...                         ...                         ...\n",
              "4688035   55.260135 -3.912814e-21+2.037170e-23j  4.766479e-24+3.351917e-24j\n",
              "4776017   55.240326 -3.912720e-21+2.034180e-23j  3.188450e-24+3.339704e-24j\n",
              "4799996   55.164651 -3.913294e-21+1.990919e-23j -3.768929e-24+2.974647e-24j\n",
              "4868631   55.046323 -3.913027e-21+2.047833e-23j -1.346807e-23+3.649165e-24j\n",
              "4875020   55.152514 -3.913230e-21+2.018451e-23j -4.728404e-24+3.260776e-24j\n",
              "\n",
              "[100 rows x 3 columns]"
            ],
            "text/html": [
              "\n",
              "  <div id=\"df-7857b6d0-4238-420e-9a7f-376f582a70fa\">\n",
              "    <div class=\"colab-df-container\">\n",
              "      <div>\n",
              "<style scoped>\n",
              "    .dataframe tbody tr th:only-of-type {\n",
              "        vertical-align: middle;\n",
              "    }\n",
              "\n",
              "    .dataframe tbody tr th {\n",
              "        vertical-align: top;\n",
              "    }\n",
              "\n",
              "    .dataframe thead th {\n",
              "        text-align: right;\n",
              "    }\n",
              "</style>\n",
              "<table border=\"1\" class=\"dataframe\">\n",
              "  <thead>\n",
              "    <tr style=\"text-align: right;\">\n",
              "      <th></th>\n",
              "      <th>total mass</th>\n",
              "      <th>strain_data</th>\n",
              "      <th>noise</th>\n",
              "    </tr>\n",
              "  </thead>\n",
              "  <tbody>\n",
              "    <tr>\n",
              "      <th>9403</th>\n",
              "      <td>55.134752</td>\n",
              "      <td>-3.913296e-21+2.041617e-23j</td>\n",
              "      <td>-6.291493e-24+3.508267e-24j</td>\n",
              "    </tr>\n",
              "    <tr>\n",
              "      <th>62276</th>\n",
              "      <td>55.118848</td>\n",
              "      <td>-3.913194e-21+1.967524e-23j</td>\n",
              "      <td>-7.529141e-24+2.781526e-24j</td>\n",
              "    </tr>\n",
              "    <tr>\n",
              "      <th>73562</th>\n",
              "      <td>55.201606</td>\n",
              "      <td>-3.913431e-21+1.953096e-23j</td>\n",
              "      <td>-7.900969e-25+2.563434e-24j</td>\n",
              "    </tr>\n",
              "    <tr>\n",
              "      <th>115891</th>\n",
              "      <td>55.096093</td>\n",
              "      <td>-3.913246e-21+2.032747e-23j</td>\n",
              "      <td>-9.497504e-24+3.454008e-24j</td>\n",
              "    </tr>\n",
              "    <tr>\n",
              "      <th>188724</th>\n",
              "      <td>55.230513</td>\n",
              "      <td>-3.913138e-21+1.962137e-23j</td>\n",
              "      <td>1.942018e-24+2.628040e-24j</td>\n",
              "    </tr>\n",
              "    <tr>\n",
              "      <th>...</th>\n",
              "      <td>...</td>\n",
              "      <td>...</td>\n",
              "      <td>...</td>\n",
              "    </tr>\n",
              "    <tr>\n",
              "      <th>4688035</th>\n",
              "      <td>55.260135</td>\n",
              "      <td>-3.912814e-21+2.037170e-23j</td>\n",
              "      <td>4.766479e-24+3.351917e-24j</td>\n",
              "    </tr>\n",
              "    <tr>\n",
              "      <th>4776017</th>\n",
              "      <td>55.240326</td>\n",
              "      <td>-3.912720e-21+2.034180e-23j</td>\n",
              "      <td>3.188450e-24+3.339704e-24j</td>\n",
              "    </tr>\n",
              "    <tr>\n",
              "      <th>4799996</th>\n",
              "      <td>55.164651</td>\n",
              "      <td>-3.913294e-21+1.990919e-23j</td>\n",
              "      <td>-3.768929e-24+2.974647e-24j</td>\n",
              "    </tr>\n",
              "    <tr>\n",
              "      <th>4868631</th>\n",
              "      <td>55.046323</td>\n",
              "      <td>-3.913027e-21+2.047833e-23j</td>\n",
              "      <td>-1.346807e-23+3.649165e-24j</td>\n",
              "    </tr>\n",
              "    <tr>\n",
              "      <th>4875020</th>\n",
              "      <td>55.152514</td>\n",
              "      <td>-3.913230e-21+2.018451e-23j</td>\n",
              "      <td>-4.728404e-24+3.260776e-24j</td>\n",
              "    </tr>\n",
              "  </tbody>\n",
              "</table>\n",
              "<p>100 rows × 3 columns</p>\n",
              "</div>\n",
              "      <button class=\"colab-df-convert\" onclick=\"convertToInteractive('df-7857b6d0-4238-420e-9a7f-376f582a70fa')\"\n",
              "              title=\"Convert this dataframe to an interactive table.\"\n",
              "              style=\"display:none;\">\n",
              "        \n",
              "  <svg xmlns=\"http://www.w3.org/2000/svg\" height=\"24px\"viewBox=\"0 0 24 24\"\n",
              "       width=\"24px\">\n",
              "    <path d=\"M0 0h24v24H0V0z\" fill=\"none\"/>\n",
              "    <path d=\"M18.56 5.44l.94 2.06.94-2.06 2.06-.94-2.06-.94-.94-2.06-.94 2.06-2.06.94zm-11 1L8.5 8.5l.94-2.06 2.06-.94-2.06-.94L8.5 2.5l-.94 2.06-2.06.94zm10 10l.94 2.06.94-2.06 2.06-.94-2.06-.94-.94-2.06-.94 2.06-2.06.94z\"/><path d=\"M17.41 7.96l-1.37-1.37c-.4-.4-.92-.59-1.43-.59-.52 0-1.04.2-1.43.59L10.3 9.45l-7.72 7.72c-.78.78-.78 2.05 0 2.83L4 21.41c.39.39.9.59 1.41.59.51 0 1.02-.2 1.41-.59l7.78-7.78 2.81-2.81c.8-.78.8-2.07 0-2.86zM5.41 20L4 18.59l7.72-7.72 1.47 1.35L5.41 20z\"/>\n",
              "  </svg>\n",
              "      </button>\n",
              "      \n",
              "  <style>\n",
              "    .colab-df-container {\n",
              "      display:flex;\n",
              "      flex-wrap:wrap;\n",
              "      gap: 12px;\n",
              "    }\n",
              "\n",
              "    .colab-df-convert {\n",
              "      background-color: #E8F0FE;\n",
              "      border: none;\n",
              "      border-radius: 50%;\n",
              "      cursor: pointer;\n",
              "      display: none;\n",
              "      fill: #1967D2;\n",
              "      height: 32px;\n",
              "      padding: 0 0 0 0;\n",
              "      width: 32px;\n",
              "    }\n",
              "\n",
              "    .colab-df-convert:hover {\n",
              "      background-color: #E2EBFA;\n",
              "      box-shadow: 0px 1px 2px rgba(60, 64, 67, 0.3), 0px 1px 3px 1px rgba(60, 64, 67, 0.15);\n",
              "      fill: #174EA6;\n",
              "    }\n",
              "\n",
              "    [theme=dark] .colab-df-convert {\n",
              "      background-color: #3B4455;\n",
              "      fill: #D2E3FC;\n",
              "    }\n",
              "\n",
              "    [theme=dark] .colab-df-convert:hover {\n",
              "      background-color: #434B5C;\n",
              "      box-shadow: 0px 1px 3px 1px rgba(0, 0, 0, 0.15);\n",
              "      filter: drop-shadow(0px 1px 2px rgba(0, 0, 0, 0.3));\n",
              "      fill: #FFFFFF;\n",
              "    }\n",
              "  </style>\n",
              "\n",
              "      <script>\n",
              "        const buttonEl =\n",
              "          document.querySelector('#df-7857b6d0-4238-420e-9a7f-376f582a70fa button.colab-df-convert');\n",
              "        buttonEl.style.display =\n",
              "          google.colab.kernel.accessAllowed ? 'block' : 'none';\n",
              "\n",
              "        async function convertToInteractive(key) {\n",
              "          const element = document.querySelector('#df-7857b6d0-4238-420e-9a7f-376f582a70fa');\n",
              "          const dataTable =\n",
              "            await google.colab.kernel.invokeFunction('convertToInteractive',\n",
              "                                                     [key], {});\n",
              "          if (!dataTable) return;\n",
              "\n",
              "          const docLinkHtml = 'Like what you see? Visit the ' +\n",
              "            '<a target=\"_blank\" href=https://colab.research.google.com/notebooks/data_table.ipynb>data table notebook</a>'\n",
              "            + ' to learn more about interactive tables.';\n",
              "          element.innerHTML = '';\n",
              "          dataTable['output_type'] = 'display_data';\n",
              "          await google.colab.output.renderOutput(dataTable, element);\n",
              "          const docLink = document.createElement('div');\n",
              "          docLink.innerHTML = docLinkHtml;\n",
              "          element.appendChild(docLink);\n",
              "        }\n",
              "      </script>\n",
              "    </div>\n",
              "  </div>\n",
              "  "
            ]
          },
          "metadata": {},
          "execution_count": 264
        }
      ]
    },
    {
      "cell_type": "code",
      "source": [
        "plt.hist(lookup_table['total mass'],density=True)\n",
        "plt.show()"
      ],
      "metadata": {
        "colab": {
          "base_uri": "https://localhost:8080/",
          "height": 265
        },
        "id": "hnHci5jbwCmu",
        "outputId": "3ba17a96-4aa7-4642-b4eb-a141e317fc7d"
      },
      "execution_count": 273,
      "outputs": [
        {
          "output_type": "display_data",
          "data": {
            "text/plain": [
              "<Figure size 432x288 with 1 Axes>"
            ],
            "image/png": "[encoded data removed]"
          },
          "metadata": {
            "image/png": {
              "width": 362,
              "height": 248
            },
            "needs_background": "light"
          }
        }
      ]
    },
    {
      "cell_type": "code",
      "source": [
        "plt.hist(strain_data,density=True,alpha=0.5)\n",
        "plt.hist(noise_measurements,density=True,alpha=0.5)\n",
        "plt.show()"
      ],
      "metadata": {
        "colab": {
          "base_uri": "https://localhost:8080/",
          "height": 431
        },
        "id": "7GJ-EFMJMtSh",
        "outputId": "4a988446-e9e4-476d-9c7c-3217a7135b60"
      },
      "execution_count": 266,
      "outputs": [
        {
          "output_type": "stream",
          "name": "stderr",
          "text": [
            "/usr/local/lib/python3.7/dist-packages/numpy/lib/histograms.py:852: ComplexWarning: Casting complex values to real discards the imaginary part\n",
            "  indices = f_indices.astype(np.intp)\n",
            "/usr/local/lib/python3.7/dist-packages/numpy/lib/histograms.py:905: ComplexWarning: Casting complex values to real discards the imaginary part\n",
            "  db = np.array(np.diff(bin_edges), float)\n",
            "/usr/local/lib/python3.7/dist-packages/matplotlib/transforms.py:789: ComplexWarning: Casting complex values to real discards the imaginary part\n",
            "  points = np.array(args, dtype=float).reshape(2, 2)\n",
            "/usr/local/lib/python3.7/dist-packages/matplotlib/transforms.py:1969: ComplexWarning: Casting complex values to real discards the imaginary part\n",
            "  x, y = float(x), float(y)\n"
          ]
        },
        {
          "output_type": "display_data",
          "data": {
            "text/plain": [
              "<Figure size 432x288 with 1 Axes>"
            ],
            "image/png": "[encoded data removed]"
          },
          "metadata": {
            "image/png": {
              "width": 362,
              "height": 271
            },
            "needs_background": "light"
          }
        }
      ]
    },
    {
      "cell_type": "code",
      "source": [
        "def lnL(data,mtotal):\n",
        "  deltaF = 1/4.\n",
        "  noise_mean = 0\n",
        "  noise_var = lalsim.SimNoisePSDaLIGOZeroDetLowPower(150) / (4*deltaF)\n",
        "\n",
        "  signal = GW_signal(mtotal)[0]\n",
        "  return stats.norm.logpdf(data, loc=signal, scale=np.sqrt(noise_var))\n",
        "\n",
        "def lnpi(mtotal):\n",
        "  mtot_min = 30\n",
        "  mtot_max = 100\n",
        "  mtot_mean = 60\n",
        "  mtot_var = 10\n",
        "  a = (mtot_min-mtot_mean)/np.sqrt(mtot_var) # some annoying parameter for scipy function\n",
        "  b = (mtot_max-mtot_mean)/np.sqrt(mtot_var)\n",
        "  return stats.truncnorm.logpdf(mtotal,a, b, loc=mtot_mean, scale=np.sqrt(mtot_var))\n"
      ],
      "metadata": {
        "id": "MSkt3xLJwv_M"
      },
      "execution_count": 267,
      "outputs": []
    },
    {
      "cell_type": "code",
      "source": [
        "def ln_p_mtotal_given_data(mtotal, data):\n",
        "\n",
        "  return lnpi(mtotal) + lnL(data, mtotal)"
      ],
      "metadata": {
        "id": "gHSurG0T12ZW"
      },
      "execution_count": 268,
      "outputs": []
    },
    {
      "cell_type": "code",
      "source": [
        "m_tot_list = np.linspace(54.9,55.5,10000)\n",
        "lnp = np.array([ln_p_mtotal_given_data(_m,strain_data_new) for _m in m_tot_list])\n",
        "ln_evidence = logsumexp(lnp,b=(m_tot_list[1]-m_tot_list[0]))"
      ],
      "metadata": {
        "id": "TDtz2TtG2qkY"
      },
      "execution_count": 283,
      "outputs": []
    },
    {
      "cell_type": "code",
      "source": [
        "plt.plot(m_tot_list, np.exp(lnp)/np.exp(ln_evidence),label='Bayesian computation')\n",
        "plt.hist(lookup_table['total mass'],density=True,label='Counting repeated trials')\n",
        "plt.legend(loc=2)\n",
        "plt.xlabel(\"Total mass $M_{\\odot}\")\n",
        "plt.ylabel(\"$p(M_{\\mathrm{total}}|$data)\")\n",
        "plt.show()"
      ],
      "metadata": {
        "colab": {
          "base_uri": "https://localhost:8080/",
          "height": 315
        },
        "id": "yxRg6Yxx3CYm",
        "outputId": "5f8f8bd7-8572-4005-a8ee-71959c951660"
      },
      "execution_count": 287,
      "outputs": [
        {
          "output_type": "stream",
          "name": "stderr",
          "text": [
            "/usr/local/lib/python3.7/dist-packages/matplotlib/cbook/__init__.py:1317: ComplexWarning: Casting complex values to real discards the imaginary part\n",
            "  return np.asarray(x, float)\n"
          ]
        },
        {
          "output_type": "display_data",
          "data": {
            "text/plain": [
              "<Figure size 432x288 with 1 Axes>"
            ],
            "image/png": "[encoded data removed]"
          },
          "metadata": {
            "image/png": {
              "width": 378,
              "height": 262
            },
            "needs_background": "light"
          }
        }
      ]
    },
    {
      "cell_type": "code",
      "source": [
        "lookup_table['total mass'].shape"
      ],
      "metadata": {
        "colab": {
          "base_uri": "https://localhost:8080/"
        },
        "id": "sW2GOnC1XJW3",
        "outputId": "de2a9c94-0378-4635-8f9c-90d25dfda4b7"
      },
      "execution_count": 271,
      "outputs": [
        {
          "output_type": "execute_result",
          "data": {
            "text/plain": [
              "(100,)"
            ]
          },
          "metadata": {},
          "execution_count": 271
        }
      ]
    },
    {
      "cell_type": "code",
      "source": [
        ""
      ],
      "metadata": {
        "id": "4OLm9uI2x8yB"
      },
      "execution_count": null,
      "outputs": []
    }
  ]
}