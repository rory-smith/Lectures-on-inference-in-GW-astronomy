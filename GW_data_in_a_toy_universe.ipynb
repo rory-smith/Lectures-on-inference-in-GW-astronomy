{
  "nbformat": 4,
  "nbformat_minor": 0,
  "metadata": {
    "colab": {
      "name": "GW data in a toy universe.ipynb",
      "provenance": [],
      "collapsed_sections": [],
      "authorship_tag": "ABX9TyNizFJ7A+w0rjE0y2SsNr5t",
      "include_colab_link": true
    },
    "kernelspec": {
      "name": "python3",
      "display_name": "Python 3"
    },
    "language_info": {
      "name": "python"
    }
  },
  "cells": [
    {
      "cell_type": "markdown",
      "metadata": {
        "id": "view-in-github",
        "colab_type": "text"
      },
      "source": [
        "<a href=\"https://colab.research.google.com/github/rory-smith/Lectures-on-inference-in-GW-astronomy/blob/master/GW_data_in_a_toy_universe.ipynb\" target=\"_parent\"><img src=\"https://colab.research.google.com/assets/colab-badge.svg\" alt=\"Open In Colab\"/></a>"
      ]
    },
    {
      "cell_type": "code",
      "execution_count": 1,
      "metadata": {
        "id": "QUYAPUwxoWt2"
      },
      "outputs": [],
      "source": [
        "import requests, os\n",
        "import matplotlib.pyplot as plt\n",
        "%config InlineBackend.figure_format = 'retina'\n"
      ]
    },
    {
      "cell_type": "code",
      "source": [
        "!pip install lalsuite"
      ],
      "metadata": {
        "id": "9OlwQTQEMUKn"
      },
      "execution_count": null,
      "outputs": []
    },
    {
      "cell_type": "code",
      "source": [
        "!pip install latex"
      ],
      "metadata": {
        "id": "gYbv8JraZgRs"
      },
      "execution_count": null,
      "outputs": []
    },
    {
      "cell_type": "code",
      "source": [
        "import lalsimulation as lalsim\n",
        "import numpy as np\n",
        "from scipy import stats\n",
        "import pylab as plt\n",
        "import lal\n",
        "import pandas as pd\n",
        "from scipy.special import logsumexp"
      ],
      "metadata": {
        "id": "uyfBin1GMnCZ"
      },
      "execution_count": 4,
      "outputs": []
    },
    {
      "cell_type": "code",
      "source": [
        "data_frequency = 150 # In our universe, GW detectors only record data at 150Hz :)\n",
        "\n",
        "def GW_detector_noise(N):\n",
        "\n",
        "\n",
        "  deltaF = 1/4.\n",
        "  noise_mean = 0\n",
        "  noise_var = lalsim.SimNoisePSDaLIGOZeroDetLowPower(data_frequency) / (4*deltaF)\n",
        "\n",
        "  noise_re = np.random.normal(loc=noise_mean, scale=np.sqrt(noise_var), size=int(N))\n",
        "  noise_imag = np.random.normal(loc=noise_mean, scale=np.sqrt(noise_var), size=int(N))\n",
        "\n",
        "  return noise_re + 1j*noise_imag"
      ],
      "metadata": {
        "id": "uSLUiwcpobRF"
      },
      "execution_count": 5,
      "outputs": []
    },
    {
      "cell_type": "code",
      "source": [
        "def draw_mtotal(N):\n",
        "\n",
        "  mtot_min = 30\n",
        "  mtot_max = 100\n",
        "  mtot_mean = 60\n",
        "  mtot_var = 10\n",
        "  a = (mtot_min-mtot_mean)/np.sqrt(mtot_var) # some annoying parameter for scipy function\n",
        "  b = (mtot_max-mtot_mean)/np.sqrt(mtot_var)\n",
        "  return stats.truncnorm.rvs(a, b, loc=mtot_mean, scale=np.sqrt(mtot_var),size=int(N))"
      ],
      "metadata": {
        "id": "PDkbYsm4SttB"
      },
      "execution_count": 6,
      "outputs": []
    },
    {
      "cell_type": "code",
      "source": [
        "# this is all bookkeepy stuff to allow us to evaluate a GW signal at GW frequency of 150Hz #####\n",
        "f = np.array([data_frequency])\n",
        "F = f#np.loadtxt(\"Freqs_long.txt\")\n",
        "F = lal.CreateREAL8Vector(len(F))\n",
        "F.data[:] =  f\n",
        "###############################################################################\n",
        "def GW_signal(Mtotal):\n",
        "\n",
        "  mass_ratio = 1 #all binaries in our universe contain equal-mass black holes\n",
        "  Dist = 1e6*lal.lal.PC_SI #all binary black holes are located 0.1Gpc from our detector\n",
        "  spin1x, spin1y, spin1z = 0, 0, 0 #black holes do not spin in our Universe\n",
        "  spin2x, spin2y, spin2z = 0, 0, 0 #black holes do not spin in our Universe\n",
        "  iota = 0 #all BBH obits are inclined such that their orbital plane is \"face on\"\n",
        "\n",
        "  m1, m2 = Mtotal/(1+mass_ratio), Mtotal/(1+mass_ratio)\n",
        "\n",
        "  m1 *= lal.lal.MSUN_SI #component mass into SI units\n",
        "  m2 *= lal.lal.MSUN_SI\n",
        "  WFdict = lal.CreateDict() #bookkeepy thing\n",
        "  h = lalsim.SimIMRPhenomXPHMFrequencySequence(F, m1, m2, spin1x, \\\n",
        "            spin1y, spin1z, spin2x, spin2y, spin2z, Dist, iota, 0, 150, WFdict)\n",
        "  \n",
        "  signal = h[0].data.data + h[1].data.data #equal parts plus and cross polarization\n",
        "  return signal"
      ],
      "metadata": {
        "id": "xr0e-DUpWrkg"
      },
      "execution_count": 7,
      "outputs": []
    },
    {
      "cell_type": "code",
      "source": [
        "noise_measurements = GW_detector_noise(5e6)"
      ],
      "metadata": {
        "id": "wVk4Ww1CSCg7"
      },
      "execution_count": 8,
      "outputs": []
    },
    {
      "cell_type": "code",
      "source": [
        "BBH_masses = draw_mtotal(5e6)"
      ],
      "metadata": {
        "id": "LBljYIudSGnN"
      },
      "execution_count": 9,
      "outputs": []
    },
    {
      "cell_type": "code",
      "source": [
        "signals = np.array([GW_signal(_m)[0] for _m in BBH_masses])"
      ],
      "metadata": {
        "id": "0bZa9wdlgQvP"
      },
      "execution_count": 10,
      "outputs": []
    },
    {
      "cell_type": "code",
      "source": [
        "strain_data = signals + noise_measurements"
      ],
      "metadata": {
        "id": "u-XkSL8QkyRg"
      },
      "execution_count": 11,
      "outputs": []
    },
    {
      "cell_type": "code",
      "source": [
        "plt.hist(BBH_masses, density=True)\n",
        "plt.xlabel(r\"Total mass of binary black hole systems $(M_{\\odot})$\")\n",
        "plt.title(r\"Probability density of BBH total mass: $\\pi(M_{total})$\")\n",
        "plt.show()"
      ],
      "metadata": {
        "colab": {
          "base_uri": "https://localhost:8080/",
          "height": 297
        },
        "id": "dxRBhR-nUoPY",
        "outputId": "0832d635-b34e-4db6-fe66-e46630e6f41c"
      },
      "execution_count": 12,
      "outputs": [
        {
          "output_type": "display_data",
          "data": {
            "text/plain": [
              "<Figure size 432x288 with 1 Axes>"
            ],
            "image/png": "[encoded data removed]"
          },
          "metadata": {
            "image/png": {
              "width": 378,
              "height": 280
            },
            "needs_background": "light"
          }
        }
      ]
    },
    {
      "cell_type": "code",
      "source": [
        "## bundle up our data, noise, masses into a pandas data frame \n",
        "_df = {'total mass':BBH_masses, 'strain_data':strain_data, 'noise':noise_measurements}\n",
        "dataframe = pd.DataFrame(data=_df)"
      ],
      "metadata": {
        "id": "r5kPWKBMUrhz"
      },
      "execution_count": 13,
      "outputs": []
    },
    {
      "cell_type": "code",
      "source": [
        "dataframe"
      ],
      "metadata": {
        "colab": {
          "base_uri": "https://localhost:8080/",
          "height": 424
        },
        "id": "BcXildGTJztI",
        "outputId": "218628fa-65f8-457c-9cf8-2c6e65d0c077"
      },
      "execution_count": 14,
      "outputs": [
        {
          "output_type": "execute_result",
          "data": {
            "text/plain": [
              "         total mass                 strain_data                       noise\n",
              "0         61.501551 -4.466780e-21+2.782726e-23j  7.055627e-24+4.689038e-24j\n",
              "1         61.349297 -4.466470e-21+1.793634e-23j -6.936680e-24-5.034796e-24j\n",
              "2         64.327348 -4.750646e-21+2.808784e-23j -4.280312e-24+1.595779e-24j\n",
              "3         60.443511 -4.359818e-21+1.634503e-23j  1.541214e-23-5.655802e-24j\n",
              "4         62.616503 -4.586126e-21+2.039844e-23j -6.373418e-24-4.002199e-24j\n",
              "...             ...                         ...                         ...\n",
              "4999995   59.128038 -4.254640e-21+1.834202e-23j  5.226551e-25-2.313525e-24j\n",
              "4999996   60.695369 -4.393326e-21+2.638034e-23j  5.210798e-24+4.113605e-24j\n",
              "4999997   60.577512 -4.380605e-21+1.988578e-23j  7.012561e-24-2.256163e-24j\n",
              "4999998   62.303136 -4.544238e-21+8.836852e-24j  5.535561e-24-1.520172e-23j\n",
              "4999999   60.073915 -4.339362e-21+3.258731e-23j  1.853354e-24+1.097158e-23j\n",
              "\n",
              "[5000000 rows x 3 columns]"
            ],
            "text/html": [
              "\n",
              "  <div id=\"df-d393c267-662b-4c35-8c92-8fe82ab18df2\">\n",
              "    <div class=\"colab-df-container\">\n",
              "      <div>\n",
              "<style scoped>\n",
              "    .dataframe tbody tr th:only-of-type {\n",
              "        vertical-align: middle;\n",
              "    }\n",
              "\n",
              "    .dataframe tbody tr th {\n",
              "        vertical-align: top;\n",
              "    }\n",
              "\n",
              "    .dataframe thead th {\n",
              "        text-align: right;\n",
              "    }\n",
              "</style>\n",
              "<table border=\"1\" class=\"dataframe\">\n",
              "  <thead>\n",
              "    <tr style=\"text-align: right;\">\n",
              "      <th></th>\n",
              "      <th>total mass</th>\n",
              "      <th>strain_data</th>\n",
              "      <th>noise</th>\n",
              "    </tr>\n",
              "  </thead>\n",
              "  <tbody>\n",
              "    <tr>\n",
              "      <th>0</th>\n",
              "      <td>61.501551</td>\n",
              "      <td>-4.466780e-21+2.782726e-23j</td>\n",
              "      <td>7.055627e-24+4.689038e-24j</td>\n",
              "    </tr>\n",
              "    <tr>\n",
              "      <th>1</th>\n",
              "      <td>61.349297</td>\n",
              "      <td>-4.466470e-21+1.793634e-23j</td>\n",
              "      <td>-6.936680e-24-5.034796e-24j</td>\n",
              "    </tr>\n",
              "    <tr>\n",
              "      <th>2</th>\n",
              "      <td>64.327348</td>\n",
              "      <td>-4.750646e-21+2.808784e-23j</td>\n",
              "      <td>-4.280312e-24+1.595779e-24j</td>\n",
              "    </tr>\n",
              "    <tr>\n",
              "      <th>3</th>\n",
              "      <td>60.443511</td>\n",
              "      <td>-4.359818e-21+1.634503e-23j</td>\n",
              "      <td>1.541214e-23-5.655802e-24j</td>\n",
              "    </tr>\n",
              "    <tr>\n",
              "      <th>4</th>\n",
              "      <td>62.616503</td>\n",
              "      <td>-4.586126e-21+2.039844e-23j</td>\n",
              "      <td>-6.373418e-24-4.002199e-24j</td>\n",
              "    </tr>\n",
              "    <tr>\n",
              "      <th>...</th>\n",
              "      <td>...</td>\n",
              "      <td>...</td>\n",
              "      <td>...</td>\n",
              "    </tr>\n",
              "    <tr>\n",
              "      <th>4999995</th>\n",
              "      <td>59.128038</td>\n",
              "      <td>-4.254640e-21+1.834202e-23j</td>\n",
              "      <td>5.226551e-25-2.313525e-24j</td>\n",
              "    </tr>\n",
              "    <tr>\n",
              "      <th>4999996</th>\n",
              "      <td>60.695369</td>\n",
              "      <td>-4.393326e-21+2.638034e-23j</td>\n",
              "      <td>5.210798e-24+4.113605e-24j</td>\n",
              "    </tr>\n",
              "    <tr>\n",
              "      <th>4999997</th>\n",
              "      <td>60.577512</td>\n",
              "      <td>-4.380605e-21+1.988578e-23j</td>\n",
              "      <td>7.012561e-24-2.256163e-24j</td>\n",
              "    </tr>\n",
              "    <tr>\n",
              "      <th>4999998</th>\n",
              "      <td>62.303136</td>\n",
              "      <td>-4.544238e-21+8.836852e-24j</td>\n",
              "      <td>5.535561e-24-1.520172e-23j</td>\n",
              "    </tr>\n",
              "    <tr>\n",
              "      <th>4999999</th>\n",
              "      <td>60.073915</td>\n",
              "      <td>-4.339362e-21+3.258731e-23j</td>\n",
              "      <td>1.853354e-24+1.097158e-23j</td>\n",
              "    </tr>\n",
              "  </tbody>\n",
              "</table>\n",
              "<p>5000000 rows × 3 columns</p>\n",
              "</div>\n",
              "      <button class=\"colab-df-convert\" onclick=\"convertToInteractive('df-d393c267-662b-4c35-8c92-8fe82ab18df2')\"\n",
              "              title=\"Convert this dataframe to an interactive table.\"\n",
              "              style=\"display:none;\">\n",
              "        \n",
              "  <svg xmlns=\"http://www.w3.org/2000/svg\" height=\"24px\"viewBox=\"0 0 24 24\"\n",
              "       width=\"24px\">\n",
              "    <path d=\"M0 0h24v24H0V0z\" fill=\"none\"/>\n",
              "    <path d=\"M18.56 5.44l.94 2.06.94-2.06 2.06-.94-2.06-.94-.94-2.06-.94 2.06-2.06.94zm-11 1L8.5 8.5l.94-2.06 2.06-.94-2.06-.94L8.5 2.5l-.94 2.06-2.06.94zm10 10l.94 2.06.94-2.06 2.06-.94-2.06-.94-.94-2.06-.94 2.06-2.06.94z\"/><path d=\"M17.41 7.96l-1.37-1.37c-.4-.4-.92-.59-1.43-.59-.52 0-1.04.2-1.43.59L10.3 9.45l-7.72 7.72c-.78.78-.78 2.05 0 2.83L4 21.41c.39.39.9.59 1.41.59.51 0 1.02-.2 1.41-.59l7.78-7.78 2.81-2.81c.8-.78.8-2.07 0-2.86zM5.41 20L4 18.59l7.72-7.72 1.47 1.35L5.41 20z\"/>\n",
              "  </svg>\n",
              "      </button>\n",
              "      \n",
              "  <style>\n",
              "    .colab-df-container {\n",
              "      display:flex;\n",
              "      flex-wrap:wrap;\n",
              "      gap: 12px;\n",
              "    }\n",
              "\n",
              "    .colab-df-convert {\n",
              "      background-color: #E8F0FE;\n",
              "      border: none;\n",
              "      border-radius: 50%;\n",
              "      cursor: pointer;\n",
              "      display: none;\n",
              "      fill: #1967D2;\n",
              "      height: 32px;\n",
              "      padding: 0 0 0 0;\n",
              "      width: 32px;\n",
              "    }\n",
              "\n",
              "    .colab-df-convert:hover {\n",
              "      background-color: #E2EBFA;\n",
              "      box-shadow: 0px 1px 2px rgba(60, 64, 67, 0.3), 0px 1px 3px 1px rgba(60, 64, 67, 0.15);\n",
              "      fill: #174EA6;\n",
              "    }\n",
              "\n",
              "    [theme=dark] .colab-df-convert {\n",
              "      background-color: #3B4455;\n",
              "      fill: #D2E3FC;\n",
              "    }\n",
              "\n",
              "    [theme=dark] .colab-df-convert:hover {\n",
              "      background-color: #434B5C;\n",
              "      box-shadow: 0px 1px 3px 1px rgba(0, 0, 0, 0.15);\n",
              "      filter: drop-shadow(0px 1px 2px rgba(0, 0, 0, 0.3));\n",
              "      fill: #FFFFFF;\n",
              "    }\n",
              "  </style>\n",
              "\n",
              "      <script>\n",
              "        const buttonEl =\n",
              "          document.querySelector('#df-d393c267-662b-4c35-8c92-8fe82ab18df2 button.colab-df-convert');\n",
              "        buttonEl.style.display =\n",
              "          google.colab.kernel.accessAllowed ? 'block' : 'none';\n",
              "\n",
              "        async function convertToInteractive(key) {\n",
              "          const element = document.querySelector('#df-d393c267-662b-4c35-8c92-8fe82ab18df2');\n",
              "          const dataTable =\n",
              "            await google.colab.kernel.invokeFunction('convertToInteractive',\n",
              "                                                     [key], {});\n",
              "          if (!dataTable) return;\n",
              "\n",
              "          const docLinkHtml = 'Like what you see? Visit the ' +\n",
              "            '<a target=\"_blank\" href=https://colab.research.google.com/notebooks/data_table.ipynb>data table notebook</a>'\n",
              "            + ' to learn more about interactive tables.';\n",
              "          element.innerHTML = '';\n",
              "          dataTable['output_type'] = 'display_data';\n",
              "          await google.colab.output.renderOutput(dataTable, element);\n",
              "          const docLink = document.createElement('div');\n",
              "          docLink.innerHTML = docLinkHtml;\n",
              "          element.appendChild(docLink);\n",
              "        }\n",
              "      </script>\n",
              "    </div>\n",
              "  </div>\n",
              "  "
            ]
          },
          "metadata": {},
          "execution_count": 14
        }
      ]
    },
    {
      "cell_type": "code",
      "source": [
        "strain_data_new = GW_detector_noise(1) + GW_signal(55)"
      ],
      "metadata": {
        "id": "vvpCdd36tAEd"
      },
      "execution_count": 15,
      "outputs": []
    },
    {
      "cell_type": "code",
      "source": [
        "precision = 24 #number of decimal places to round data\n",
        "\n",
        "idx = np.where(np.around(strain_data,precision)==np.around(strain_data_new, precision))"
      ],
      "metadata": {
        "id": "ekcjGg28va1h"
      },
      "execution_count": 16,
      "outputs": []
    },
    {
      "cell_type": "code",
      "source": [
        "# the part of the dataframe where the strain data equals the new data (to our set precision)\n",
        "measurement_table = dataframe[dataframe.index.isin(idx[0])]"
      ],
      "metadata": {
        "id": "23eK5IiYvxW9"
      },
      "execution_count": 17,
      "outputs": []
    },
    {
      "cell_type": "code",
      "source": [
        "# this contains the total masses that produce strain data equal to what we just \"measured\"\n",
        "# with this, we can estimate the probability of a the total mass given our newly measured data by counting  \n",
        "measurement_table"
      ],
      "metadata": {
        "colab": {
          "base_uri": "https://localhost:8080/",
          "height": 424
        },
        "id": "R-WpZSVPzDcU",
        "outputId": "dc6f492f-6f9f-4874-d704-9cff27e504d5"
      },
      "execution_count": 18,
      "outputs": [
        {
          "output_type": "execute_result",
          "data": {
            "text/plain": [
              "         total mass                 strain_data                       noise\n",
              "22141     55.179526 -3.900283e-21+1.801951e-23j  1.049585e-23+1.071694e-24j\n",
              "59351     55.105138 -3.899850e-21+1.807714e-23j  4.659905e-24+1.195634e-24j\n",
              "118277    55.001928 -3.899571e-21+1.751354e-23j -3.745386e-24+7.238486e-25j\n",
              "196405    55.057335 -3.899612e-21+1.825655e-23j  8.739097e-25+1.417592e-24j\n",
              "209312    54.996073 -3.899651e-21+1.776192e-23j -4.317708e-24+9.774360e-25j\n",
              "...             ...                         ...                         ...\n",
              "4828110   55.016856 -3.900212e-21+1.846003e-23j -3.131884e-24+1.657072e-24j\n",
              "4843495   55.004394 -3.899606e-21+1.759901e-23j -3.573368e-24+8.071333e-25j\n",
              "4872174   54.906765 -3.899562e-21+1.767368e-23j -1.173127e-23+9.684874e-25j\n",
              "4943689   55.069237 -3.900284e-21+1.780192e-23j  1.203506e-24+9.523744e-25j\n",
              "4985777   55.157732 -3.900344e-21+1.772395e-23j  8.598085e-24+7.955741e-25j\n",
              "\n",
              "[113 rows x 3 columns]"
            ],
            "text/html": [
              "\n",
              "  <div id=\"df-e489d7fe-072c-499a-a223-cd956b6fc9b8\">\n",
              "    <div class=\"colab-df-container\">\n",
              "      <div>\n",
              "<style scoped>\n",
              "    .dataframe tbody tr th:only-of-type {\n",
              "        vertical-align: middle;\n",
              "    }\n",
              "\n",
              "    .dataframe tbody tr th {\n",
              "        vertical-align: top;\n",
              "    }\n",
              "\n",
              "    .dataframe thead th {\n",
              "        text-align: right;\n",
              "    }\n",
              "</style>\n",
              "<table border=\"1\" class=\"dataframe\">\n",
              "  <thead>\n",
              "    <tr style=\"text-align: right;\">\n",
              "      <th></th>\n",
              "      <th>total mass</th>\n",
              "      <th>strain_data</th>\n",
              "      <th>noise</th>\n",
              "    </tr>\n",
              "  </thead>\n",
              "  <tbody>\n",
              "    <tr>\n",
              "      <th>22141</th>\n",
              "      <td>55.179526</td>\n",
              "      <td>-3.900283e-21+1.801951e-23j</td>\n",
              "      <td>1.049585e-23+1.071694e-24j</td>\n",
              "    </tr>\n",
              "    <tr>\n",
              "      <th>59351</th>\n",
              "      <td>55.105138</td>\n",
              "      <td>-3.899850e-21+1.807714e-23j</td>\n",
              "      <td>4.659905e-24+1.195634e-24j</td>\n",
              "    </tr>\n",
              "    <tr>\n",
              "      <th>118277</th>\n",
              "      <td>55.001928</td>\n",
              "      <td>-3.899571e-21+1.751354e-23j</td>\n",
              "      <td>-3.745386e-24+7.238486e-25j</td>\n",
              "    </tr>\n",
              "    <tr>\n",
              "      <th>196405</th>\n",
              "      <td>55.057335</td>\n",
              "      <td>-3.899612e-21+1.825655e-23j</td>\n",
              "      <td>8.739097e-25+1.417592e-24j</td>\n",
              "    </tr>\n",
              "    <tr>\n",
              "      <th>209312</th>\n",
              "      <td>54.996073</td>\n",
              "      <td>-3.899651e-21+1.776192e-23j</td>\n",
              "      <td>-4.317708e-24+9.774360e-25j</td>\n",
              "    </tr>\n",
              "    <tr>\n",
              "      <th>...</th>\n",
              "      <td>...</td>\n",
              "      <td>...</td>\n",
              "      <td>...</td>\n",
              "    </tr>\n",
              "    <tr>\n",
              "      <th>4828110</th>\n",
              "      <td>55.016856</td>\n",
              "      <td>-3.900212e-21+1.846003e-23j</td>\n",
              "      <td>-3.131884e-24+1.657072e-24j</td>\n",
              "    </tr>\n",
              "    <tr>\n",
              "      <th>4843495</th>\n",
              "      <td>55.004394</td>\n",
              "      <td>-3.899606e-21+1.759901e-23j</td>\n",
              "      <td>-3.573368e-24+8.071333e-25j</td>\n",
              "    </tr>\n",
              "    <tr>\n",
              "      <th>4872174</th>\n",
              "      <td>54.906765</td>\n",
              "      <td>-3.899562e-21+1.767368e-23j</td>\n",
              "      <td>-1.173127e-23+9.684874e-25j</td>\n",
              "    </tr>\n",
              "    <tr>\n",
              "      <th>4943689</th>\n",
              "      <td>55.069237</td>\n",
              "      <td>-3.900284e-21+1.780192e-23j</td>\n",
              "      <td>1.203506e-24+9.523744e-25j</td>\n",
              "    </tr>\n",
              "    <tr>\n",
              "      <th>4985777</th>\n",
              "      <td>55.157732</td>\n",
              "      <td>-3.900344e-21+1.772395e-23j</td>\n",
              "      <td>8.598085e-24+7.955741e-25j</td>\n",
              "    </tr>\n",
              "  </tbody>\n",
              "</table>\n",
              "<p>113 rows × 3 columns</p>\n",
              "</div>\n",
              "      <button class=\"colab-df-convert\" onclick=\"convertToInteractive('df-e489d7fe-072c-499a-a223-cd956b6fc9b8')\"\n",
              "              title=\"Convert this dataframe to an interactive table.\"\n",
              "              style=\"display:none;\">\n",
              "        \n",
              "  <svg xmlns=\"http://www.w3.org/2000/svg\" height=\"24px\"viewBox=\"0 0 24 24\"\n",
              "       width=\"24px\">\n",
              "    <path d=\"M0 0h24v24H0V0z\" fill=\"none\"/>\n",
              "    <path d=\"M18.56 5.44l.94 2.06.94-2.06 2.06-.94-2.06-.94-.94-2.06-.94 2.06-2.06.94zm-11 1L8.5 8.5l.94-2.06 2.06-.94-2.06-.94L8.5 2.5l-.94 2.06-2.06.94zm10 10l.94 2.06.94-2.06 2.06-.94-2.06-.94-.94-2.06-.94 2.06-2.06.94z\"/><path d=\"M17.41 7.96l-1.37-1.37c-.4-.4-.92-.59-1.43-.59-.52 0-1.04.2-1.43.59L10.3 9.45l-7.72 7.72c-.78.78-.78 2.05 0 2.83L4 21.41c.39.39.9.59 1.41.59.51 0 1.02-.2 1.41-.59l7.78-7.78 2.81-2.81c.8-.78.8-2.07 0-2.86zM5.41 20L4 18.59l7.72-7.72 1.47 1.35L5.41 20z\"/>\n",
              "  </svg>\n",
              "      </button>\n",
              "      \n",
              "  <style>\n",
              "    .colab-df-container {\n",
              "      display:flex;\n",
              "      flex-wrap:wrap;\n",
              "      gap: 12px;\n",
              "    }\n",
              "\n",
              "    .colab-df-convert {\n",
              "      background-color: #E8F0FE;\n",
              "      border: none;\n",
              "      border-radius: 50%;\n",
              "      cursor: pointer;\n",
              "      display: none;\n",
              "      fill: #1967D2;\n",
              "      height: 32px;\n",
              "      padding: 0 0 0 0;\n",
              "      width: 32px;\n",
              "    }\n",
              "\n",
              "    .colab-df-convert:hover {\n",
              "      background-color: #E2EBFA;\n",
              "      box-shadow: 0px 1px 2px rgba(60, 64, 67, 0.3), 0px 1px 3px 1px rgba(60, 64, 67, 0.15);\n",
              "      fill: #174EA6;\n",
              "    }\n",
              "\n",
              "    [theme=dark] .colab-df-convert {\n",
              "      background-color: #3B4455;\n",
              "      fill: #D2E3FC;\n",
              "    }\n",
              "\n",
              "    [theme=dark] .colab-df-convert:hover {\n",
              "      background-color: #434B5C;\n",
              "      box-shadow: 0px 1px 3px 1px rgba(0, 0, 0, 0.15);\n",
              "      filter: drop-shadow(0px 1px 2px rgba(0, 0, 0, 0.3));\n",
              "      fill: #FFFFFF;\n",
              "    }\n",
              "  </style>\n",
              "\n",
              "      <script>\n",
              "        const buttonEl =\n",
              "          document.querySelector('#df-e489d7fe-072c-499a-a223-cd956b6fc9b8 button.colab-df-convert');\n",
              "        buttonEl.style.display =\n",
              "          google.colab.kernel.accessAllowed ? 'block' : 'none';\n",
              "\n",
              "        async function convertToInteractive(key) {\n",
              "          const element = document.querySelector('#df-e489d7fe-072c-499a-a223-cd956b6fc9b8');\n",
              "          const dataTable =\n",
              "            await google.colab.kernel.invokeFunction('convertToInteractive',\n",
              "                                                     [key], {});\n",
              "          if (!dataTable) return;\n",
              "\n",
              "          const docLinkHtml = 'Like what you see? Visit the ' +\n",
              "            '<a target=\"_blank\" href=https://colab.research.google.com/notebooks/data_table.ipynb>data table notebook</a>'\n",
              "            + ' to learn more about interactive tables.';\n",
              "          element.innerHTML = '';\n",
              "          dataTable['output_type'] = 'display_data';\n",
              "          await google.colab.output.renderOutput(dataTable, element);\n",
              "          const docLink = document.createElement('div');\n",
              "          docLink.innerHTML = docLinkHtml;\n",
              "          element.appendChild(docLink);\n",
              "        }\n",
              "      </script>\n",
              "    </div>\n",
              "  </div>\n",
              "  "
            ]
          },
          "metadata": {},
          "execution_count": 18
        }
      ]
    },
    {
      "cell_type": "code",
      "source": [
        "plt.hist(measurement_table['total mass'],density=True)\n",
        "plt.show()"
      ],
      "metadata": {
        "colab": {
          "base_uri": "https://localhost:8080/",
          "height": 265
        },
        "id": "hnHci5jbwCmu",
        "outputId": "0dbda6cb-1a14-485e-a24e-6c3b9cc91991"
      },
      "execution_count": 19,
      "outputs": [
        {
          "output_type": "display_data",
          "data": {
            "text/plain": [
              "<Figure size 432x288 with 1 Axes>"
            ],
            "image/png": "[encoded data removed]"
          },
          "metadata": {
            "image/png": {
              "width": 362,
              "height": 248
            },
            "needs_background": "light"
          }
        }
      ]
    },
    {
      "cell_type": "code",
      "source": [
        "plt.hist(strain_data,density=True,alpha=0.5)\n",
        "plt.hist(noise_measurements,density=True,alpha=0.5)\n",
        "plt.show()"
      ],
      "metadata": {
        "colab": {
          "base_uri": "https://localhost:8080/",
          "height": 431
        },
        "id": "7GJ-EFMJMtSh",
        "outputId": "6a45ced4-f64e-4223-aac5-9077c0e9fd1e"
      },
      "execution_count": 20,
      "outputs": [
        {
          "output_type": "stream",
          "name": "stderr",
          "text": [
            "/usr/local/lib/python3.7/dist-packages/numpy/lib/histograms.py:852: ComplexWarning: Casting complex values to real discards the imaginary part\n",
            "  indices = f_indices.astype(np.intp)\n",
            "/usr/local/lib/python3.7/dist-packages/numpy/lib/histograms.py:905: ComplexWarning: Casting complex values to real discards the imaginary part\n",
            "  db = np.array(np.diff(bin_edges), float)\n",
            "/usr/local/lib/python3.7/dist-packages/matplotlib/transforms.py:789: ComplexWarning: Casting complex values to real discards the imaginary part\n",
            "  points = np.array(args, dtype=float).reshape(2, 2)\n",
            "/usr/local/lib/python3.7/dist-packages/matplotlib/transforms.py:1969: ComplexWarning: Casting complex values to real discards the imaginary part\n",
            "  x, y = float(x), float(y)\n"
          ]
        },
        {
          "output_type": "display_data",
          "data": {
            "text/plain": [
              "<Figure size 432x288 with 1 Axes>"
            ],
            "image/png": "[encoded data removed]"
          },
          "metadata": {
            "image/png": {
              "width": 362,
              "height": 271
            },
            "needs_background": "light"
          }
        }
      ]
    },
    {
      "cell_type": "code",
      "source": [
        "def lnL(data,mtotal):\n",
        "  deltaF = 1/4.\n",
        "  noise_mean = 0\n",
        "  noise_var = lalsim.SimNoisePSDaLIGOZeroDetLowPower(150) / (4*deltaF)\n",
        "\n",
        "  signal = GW_signal(mtotal)[0]\n",
        "  return stats.norm.logpdf(data, loc=signal, scale=np.sqrt(noise_var))\n",
        "\n",
        "def lnpi(mtotal):\n",
        "  mtot_min = 30\n",
        "  mtot_max = 100\n",
        "  mtot_mean = 60\n",
        "  mtot_var = 10\n",
        "  a = (mtot_min-mtot_mean)/np.sqrt(mtot_var) # some annoying parameter for scipy function\n",
        "  b = (mtot_max-mtot_mean)/np.sqrt(mtot_var)\n",
        "  return stats.truncnorm.logpdf(mtotal,a, b, loc=mtot_mean, scale=np.sqrt(mtot_var))\n"
      ],
      "metadata": {
        "id": "MSkt3xLJwv_M"
      },
      "execution_count": 21,
      "outputs": []
    },
    {
      "cell_type": "code",
      "source": [
        "def ln_p_mtotal_given_data(mtotal, data):\n",
        "\n",
        "  return lnpi(mtotal) + lnL(data, mtotal)"
      ],
      "metadata": {
        "id": "gHSurG0T12ZW"
      },
      "execution_count": 22,
      "outputs": []
    },
    {
      "cell_type": "code",
      "source": [
        "m_tot_list = np.linspace(54.4,55.5,10000)\n",
        "ln_posterior = np.array([ln_p_mtotal_given_data(_m,strain_data_new) for _m in m_tot_list])\n",
        "ln_evidence = logsumexp(ln_posterior,b=(m_tot_list[1]-m_tot_list[0]))"
      ],
      "metadata": {
        "id": "TDtz2TtG2qkY"
      },
      "execution_count": 25,
      "outputs": []
    },
    {
      "cell_type": "code",
      "source": [
        "plt.plot(m_tot_list, np.exp(ln_posterior)/np.exp(ln_evidence),label='Bayesian computation')\n",
        "plt.hist(measurement_table['total mass'],bins='auto',density=True,label='Counting repeated trials')\n",
        "plt.legend(loc=2)\n",
        "plt.xlabel(\"Total mass ($M_{\\odot})$\")\n",
        "plt.ylabel(\"$p(M_{\\mathrm{total}}|$data)\")\n",
        "plt.ylim(0)\n",
        "plt.show()"
      ],
      "metadata": {
        "colab": {
          "base_uri": "https://localhost:8080/",
          "height": 316
        },
        "id": "yxRg6Yxx3CYm",
        "outputId": "6b6a52ad-e8a6-4854-f396-3a7849025cbc"
      },
      "execution_count": 27,
      "outputs": [
        {
          "output_type": "stream",
          "name": "stderr",
          "text": [
            "/usr/local/lib/python3.7/dist-packages/matplotlib/cbook/__init__.py:1317: ComplexWarning: Casting complex values to real discards the imaginary part\n",
            "  return np.asarray(x, float)\n"
          ]
        },
        {
          "output_type": "display_data",
          "data": {
            "text/plain": [
              "<Figure size 432x288 with 1 Axes>"
            ],
            "image/png": "[encoded data removed]"
          },
          "metadata": {
            "image/png": {
              "width": 378,
              "height": 263
            },
            "needs_background": "light"
          }
        }
      ]
    },
    {
      "cell_type": "code",
      "source": [
        ""
      ],
      "metadata": {
        "id": "4OLm9uI2x8yB"
      },
      "execution_count": 24,
      "outputs": []
    }
  ]
}