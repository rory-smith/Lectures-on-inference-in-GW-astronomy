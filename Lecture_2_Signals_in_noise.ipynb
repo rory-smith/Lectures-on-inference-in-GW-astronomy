{
  "nbformat": 4,
  "nbformat_minor": 0,
  "metadata": {
    "colab": {
      "name": "Lecture 2 Signals in noise.ipynb",
      "version": "0.3.2",
      "provenance": [],
      "collapsed_sections": [],
      "include_colab_link": true
    },
    "kernelspec": {
      "name": "python3",
      "display_name": "Python 3"
    }
  },
  "cells": [
    {
      "cell_type": "markdown",
      "metadata": {
        "id": "view-in-github",
        "colab_type": "text"
      },
      "source": [
        "<a href=\"https://colab.research.google.com/github/rory-smith/Lectures-on-inference-in-GW-astronomy/blob/master/Lecture_2_Signals_in_noise.ipynb\" target=\"_parent\"><img src=\"https://colab.research.google.com/assets/colab-badge.svg\" alt=\"Open In Colab\"/></a>"
      ]
    },
    {
      "metadata": {
        "id": "doJe0nLGWSEX",
        "colab_type": "code",
        "colab": {}
      },
      "cell_type": "code",
      "source": [
        "!pip install lalsuite\n"
      ],
      "execution_count": 0,
      "outputs": []
    },
    {
      "metadata": {
        "id": "NqQv6zxaGRB-",
        "colab_type": "code",
        "outputId": "138b2869-7a01-443e-baca-4a523f59cbaa",
        "colab": {
          "base_uri": "https://localhost:8080/",
          "height": 121
        }
      },
      "cell_type": "code",
      "source": [
        "from google.colab import drive\n",
        "drive.mount('/content/gdrive')\n"
      ],
      "execution_count": 0,
      "outputs": [
        {
          "output_type": "stream",
          "text": [
            "Go to this URL in a browser: https://accounts.google.com/o/oauth2/auth?client_id=947318989803-6bn6qk8qdgf4n4g3pfee6491hc0brc4i.apps.googleusercontent.com&redirect_uri=urn%3Aietf%3Awg%3Aoauth%3A2.0%3Aoob&scope=email%20https%3A%2F%2Fwww.googleapis.com%2Fauth%2Fdocs.test%20https%3A%2F%2Fwww.googleapis.com%2Fauth%2Fdrive%20https%3A%2F%2Fwww.googleapis.com%2Fauth%2Fdrive.photos.readonly%20https%3A%2F%2Fwww.googleapis.com%2Fauth%2Fpeopleapi.readonly&response_type=code\n",
            "\n",
            "Enter your authorization code:\n",
            "··········\n",
            "Mounted at /content/gdrive\n"
          ],
          "name": "stdout"
        }
      ]
    },
    {
      "metadata": {
        "id": "m4ejAAdmcpU5",
        "colab_type": "code",
        "colab": {}
      },
      "cell_type": "code",
      "source": [
        "import numpy as np\n",
        "import pylab as plt\n",
        "plt.style.use('default')\n",
        "from scipy.stats import norm\n",
        "%matplotlib inline\n",
        "from IPython.display import set_matplotlib_formats\n",
        "from IPython.display import clear_output\n",
        "set_matplotlib_formats('retina')\n",
        "\n",
        "import scipy \n",
        "from matplotlib import rc\n",
        "\n",
        "from scipy.interpolate import interp1d\n",
        "import lal\n",
        "import lalsimulation as lalsim\n",
        "\n",
        "import sys\n",
        "\n",
        "\n",
        "\n",
        "font = {'family' : 'sans serif',\n",
        "        'weight': 'regular',\n",
        "        'size'   : 20}\n",
        "\n",
        "rc('font', **font)\n",
        "#rc('text', usetex=True)\n",
        "plt.rcParams['figure.figsize'] = (0.4*8*1.9, 0.4*1.9*4*1.2)"
      ],
      "execution_count": 0,
      "outputs": []
    },
    {
      "metadata": {
        "id": "S6ZaWRYYbEDi",
        "colab_type": "text"
      },
      "cell_type": "markdown",
      "source": [
        "# Foundations of gravitational-wave astronomy and inference on LIGO data\n",
        "\n"
      ]
    },
    {
      "metadata": {
        "id": "pOTbYt0MbIYk",
        "colab_type": "text"
      },
      "cell_type": "markdown",
      "source": [
        "* Basics of Bayesian inference\n",
        "    * Conditional probabilities and \"Bayes Theorem\"\n",
        "* Hypothesis testing and model selection\n",
        "    * The Odds Ratio\n",
        "    * Worked example\n",
        "* Joint Parameter estimation and hypothesis testing \n",
        "    * Likelihoods, Priors and Evidences\n",
        "    * Posterior probability density functions\n",
        "    * Worked example\n",
        "* Occam's Razor\n"
      ]
    },
    {
      "metadata": {
        "id": "pZoFfM9XLI5V",
        "colab_type": "text"
      },
      "cell_type": "markdown",
      "source": [
        "Our overall goal is to learn how to assign confidence to detevtions of gravitational-wave signals and understand their properties via plots like this:\n",
        "\n",
        "<img src=\"https://docs.google.com/uc?export=download&id=1sscv0Gzn8QdT-9VcEHutMqRS63QWaD3s\" width=\"300\">\n",
        "\n",
        "\n"
      ]
    },
    {
      "metadata": {
        "id": "WRyvV7xQgRWk",
        "colab_type": "text"
      },
      "cell_type": "markdown",
      "source": [
        "# Inspecting the data"
      ]
    },
    {
      "metadata": {
        "id": "W6AVdwkZbZey",
        "colab_type": "text"
      },
      "cell_type": "markdown",
      "source": [
        "Let's start by generating our data set. It has two components: a gravitational-wave signal, and aLIGO-like noise.\n",
        "\n",
        "The signal corresponds to the (Fourier transform) of a gravitational-wave signal which originated from the merger of two black holes with the following properties:\n",
        "\n",
        "\n",
        "---\n",
        "\n",
        "\n",
        "* $m_1 = m_2 = 30M_{\\odot}$\n",
        "* $ D = 1.5\\text{Gpc} = 1500\\text{Mpc}$\n",
        "* $\\iota = 0$\n",
        "* $\\vec{S}^1 = (0,0,0)$\n",
        "* $\\vec{S}^2 = (0,0,0)$\n",
        "* $ \\phi_c = 0$\n",
        "\n",
        "\n",
        "---\n",
        "\n"
      ]
    },
    {
      "metadata": {
        "id": "rx7jh80sbcYv",
        "colab_type": "code",
        "colab": {}
      },
      "cell_type": "code",
      "source": [
        "import pandas as pd\n",
        "\n",
        "data_csv = pd.read_csv(\"/content/gdrive/My Drive/InvisibleUniverse/Data/fake_data_for_lectures.csv\")\n",
        "noise_csv = pd.read_csv(\"/content/gdrive/My Drive/InvisibleUniverse/Data/fake_noise_for_lectures.csv\")\n",
        "signal_csv = pd.read_csv(\"/content/gdrive/My Drive/InvisibleUniverse/Data/fake_fdomain_signal_for_lectures.csv\")"
      ],
      "execution_count": 0,
      "outputs": []
    },
    {
      "metadata": {
        "id": "QZhRyXsUb5kA",
        "colab_type": "code",
        "colab": {}
      },
      "cell_type": "code",
      "source": [
        "freqs = data_csv['# f']\n",
        "deltaF = freqs[1]-freqs[0]\n",
        "data = data_csv['data_real'] + 1j*data_csv['data_imag']\n",
        "noise = noise_csv['noise_real'] + 1j*noise_csv['noise_imag']\n",
        "psd = noise_csv['psd']\n",
        "signal = signal_csv['htilde_real'] + 1j*signal_csv['htilde_imag']"
      ],
      "execution_count": 0,
      "outputs": []
    },
    {
      "metadata": {
        "id": "eUochhsNcAu7",
        "colab_type": "code",
        "outputId": "0d28444d-d712-417d-c3d9-48d8bced96ec",
        "colab": {
          "base_uri": "https://localhost:8080/",
          "height": 283
        }
      },
      "cell_type": "code",
      "source": [
        "plt.loglog(freqs,np.absolute(data),label='abs(data)',c='red')\n",
        "plt.loglog(freqs,np.absolute(signal),label='abs(signal)', c='blue')\n",
        "plt.loglog(freqs,np.absolute(noise),label='abs(noise)',alpha=0.5,c='green')\n",
        "\n",
        "plt.xlabel('f (Hz)')\n",
        "plt.ylabel('strain/Hz')\n",
        "plt.xlim(20,2048)\n",
        "plt.legend(loc=(1.04,0))\n",
        "plt.savefig(\"/content/gdrive/My Drive/InvisibleUniverse/images/data_sig_noise.png\",bbox_inches='tight',dpi=100)"
      ],
      "execution_count": 0,
      "outputs": [
        {
          "output_type": "display_data",
          "data": {
            "image/png": "[encoded data removed]",
            "text/plain": [
              "<Figure size 437.76x262.656 with 1 Axes>"
            ]
          },
          "metadata": {
            "tags": [],
            "image/png": {
              "width": 635,
              "height": 266
            }
          }
        }
      ]
    },
    {
      "metadata": {
        "id": "5YqYjIfifoWD",
        "colab_type": "text"
      },
      "cell_type": "markdown",
      "source": [
        "The data $d(f)$ here contains a synthetic gravitational-wave signal $h(f)$ and colored Gaussian noise $n(f)$, i.e.,\n",
        "​\n",
        "* $d(f) = h(f) + n(f)$\n",
        "\n",
        "Notice that the units of the Fourier transform of the time-domain strain is $\\text{strain/Hz}$ (c.f. the ASD which has units $\\text{strain/}\\sqrt{Hz}$)"
      ]
    },
    {
      "metadata": {
        "id": "qFMrwBGzgVyV",
        "colab_type": "text"
      },
      "cell_type": "markdown",
      "source": [
        "# How do we tell if the data contains a signal?"
      ]
    },
    {
      "metadata": {
        "id": "e7ocUTIRgFl7",
        "colab_type": "text"
      },
      "cell_type": "markdown",
      "source": [
        "\n",
        "\n",
        "Let's imagine we’re given the data without $\\textit{a priori}$ knowledge of whether it contains a signal or not.\n",
        "\n",
        "* $\\textbf{Question: is the data more consistent with noise, or noise + signal?}$\n",
        "    * For now, assume that the signal has two \"features\": it can either be \"on\" or \"off\", i.e., has no unknown parameters\n",
        "\n",
        "Our first goal will be to answer the above question. We will use this example to introduce the idea of $\\textbf{hypothesis testing}$ in the context of Bayesian Inference.\n",
        "\n",
        "To begin, let's define some variables and build up our inference machine.\n",
        "\n",
        "We will start by introducing three basic \"ingredients\" for hypothesis testing with which we will model our data:\n",
        "\n",
        "\n",
        "---\n",
        "\n",
        "\n",
        "\n",
        "* $d$: Observational data\n",
        "* $\\mathcal{H}_i$: An hypothesis that describes the data. For example, we could have a \"noise\" hypothesis $\\mathcal{H}_N$ that says \"the data are colored Gaussian noise with known mean and variance\". A competing hypothesis could be the \"signal\" hypothesis $\\mathcal{H}_S$ which says \"The data are colored Gaussian noise with known mean and variance $\\textit{plus} a gravitational wave signal$\". In general, there could be an infinite number of hypotheses we could test with our data.\n",
        "* $I$: \"Prior\" information. This is $\\textit{a priori}$ knowledge about our expectations for the hypotheses before we learn from our data. For instance, we might give equal odds to their being a signal or noise.\n",
        "\n",
        "\n",
        "---\n",
        "\n",
        "\n",
        "These three ingredients are the inputs to our inference machine. What about the \"machine\" itself ,and the outputs?\n",
        "\n"
      ]
    },
    {
      "metadata": {
        "id": "c7B-qAz-cx3P",
        "colab_type": "text"
      },
      "cell_type": "markdown",
      "source": [
        "# Conditional probability and Bayes Theorem\n",
        "## Axiom 0: Data are *uncertain*"
      ]
    },
    {
      "metadata": {
        "id": "Xus8eUwVc1jU",
        "colab_type": "text"
      },
      "cell_type": "markdown",
      "source": [
        "The Bayesian inference machine is just a conditional probability. Let's look at the specific case of hypothesis testing. We'd like to be able to assign a probability to an hypothesis $\\mathcal{H}_i$, given the data $d$ and our prior information $I$. In the formalism of conditional probabilities, we seek to compute: \n",
        "\n",
        "\n",
        "---\n",
        "\n",
        "\n",
        "* $P(\\mathcal{H}_i |d,I)=\\frac{P(\\mathcal{H}_i|I)P(d|\\mathcal{H}_i,I)}{P(d|I)}$\n",
        "\n",
        "\n",
        "---\n",
        "\n",
        "\n",
        "In the context of Bayesian inference, we usually refer to the above as \"$\\textbf{Bayes Theorem}$\" after Reverend Thomas Bayes (1701–1761).\n",
        "\n",
        "Each term has a name. We'll change our notation and naming convention when we introduce free parameters, for now though we'll use the following definitions:\n",
        "\n",
        "\n",
        "---\n",
        "\n",
        "\n",
        "* $P(\\mathcal{H}_i |d,I)$ : $\\textbf{Posterior Probability Density Function (PDF)}$ of the hypothesis $\\mathcal{H}_i$. Posterior refers to $\\textit{a postiori}$, i.e., what we know about $\\mathcal{H}_i$ after we analyze the data $d$.\n",
        "* $P(\\mathcal{H}_i|I)$: $\\textbf{Prior Probability}$ of the hypothesis $\\mathcal{H}_i$. Prior refers to $\\textit{a priori}$, i.e., what we think we know about $\\mathcal{H}_i$ before we analyze our data.\n",
        "* $P(d|\\mathcal{H}_i,I)$: $\\textbf{Evidence}$ for the data. This is the probability of the $\\textbf{data}$ given our hypothesis $\\mathcal{H}_i$\n",
        "* $P(d|I)$: $\\textbf{Marginal Likelihood}$. This is the probability of the data, given all possible hypotheses $P(d|I)=\\sum_i P(\\mathcal{H}_i|I)P(d|\\mathcal{H}_i,I)$\n",
        "\n",
        "\n",
        "---\n",
        "\n",
        "\n",
        "In general, we could have an infinite number of hypotheses. In lieu of being able to weight on hypothesis against all possible hypotheses, we usually work by comparing two hypotheses at a time. This leads us to the $\\textbf{Odds Ratio}$.\n"
      ]
    },
    {
      "metadata": {
        "id": "o8_KIZO8gxPV",
        "colab_type": "text"
      },
      "cell_type": "markdown",
      "source": [
        "# Hypothesis Testing: The Odds Ratio"
      ]
    },
    {
      "metadata": {
        "id": "QvF9F4Emgyt6",
        "colab_type": "text"
      },
      "cell_type": "markdown",
      "source": [
        "Assume for the moment that we know how to evaluate $P(\\mathcal{H}_i |d,I)$ for any hypotheses (we'll look at an example shortly). How can we leverage the posterior probability to perform hypothesis testing?\n",
        "\n",
        "A natural way is to take $\\textit{ratios of posterior probabilities}$. This allows us to compute the relative probability of hypothesis $\\mathcal{H}_S$ against a competing hypothesis $\\mathcal{H}_N$.\n",
        "\n",
        "The ratio is known as the $\\textbf{Odds Ratio}$ and is a cornerstone of inference. The odds ratio is\n",
        "\n",
        "\n",
        "---\n",
        "* $O_{S,N}=\\frac{P(\\mathcal{H}_S |d,I)}{P(\\mathcal{H}_N |d,I)}$\n",
        "\n",
        "Expanding out the probabilitities\n",
        "\n",
        "\n",
        "* $O_{S,N}=\\frac{P(\\mathcal{H}_S|I)}{P(\\mathcal{H}_N|I)}\\frac{P(d|\\mathcal{H}_S,I)}{P(d|\\mathcal{H}_N,I)}=\\frac{P(\\mathcal{H}_S|I)}{P(\\mathcal{H}_N|I)}B_{S,N}\\,;\n",
        "$\n",
        "\n",
        "\n",
        "---\n",
        "\n",
        "\n",
        "(notice that the marginal likelihood cancels out)\n",
        "\n",
        "There are two components:\n",
        "\n",
        "\n",
        "---\n",
        "\n",
        "\n",
        "* $\\frac{P(\\mathcal{H}_S|I)}{P(\\mathcal{H}_N|I)}$: $\\textbf{Prior Odds}$, i.e., the odds before we collect and analyze data\n",
        "* $B_{S,N} \\equiv \\frac{P(d|\\mathcal{H}_S,I)}{P(d|\\mathcal{H}_N,I)}$: $\\textbf{Posterior Odds}$ or $\\textbf{Bayes Factor}$, i.e., the odds after we analyze the data.\n",
        "\n",
        "\n",
        "---\n",
        "\n",
        "\n"
      ]
    },
    {
      "metadata": {
        "id": "QLYJSVBGhkLp",
        "colab_type": "text"
      },
      "cell_type": "markdown",
      "source": [
        "## Worked example: Picking out the GW signal"
      ]
    },
    {
      "metadata": {
        "id": "YGxXD_3asIY1",
        "colab_type": "text"
      },
      "cell_type": "markdown",
      "source": [
        "Let's work our way through the first question that was posed at the beginning of the Lecture. If we're given the data, can we tell if they contain a signal $\\textit{plus}$ noise, or just noise?\n",
        "\n",
        "<img src=\"https://docs.google.com/uc?export=download&id=1-1aAls9ANI31whooIiwA2N7IPYYpB5Re\" width=\"550\">\n",
        "\n",
        "The data $d(f)$ here contains a synthetic gravitational-wave signal $h(f)$ and colored Gaussian noise $n(f)$, i.e.,\n",
        "\n",
        "* $d(f) = h(f) + n(f)$"
      ]
    },
    {
      "metadata": {
        "id": "e-IgG5hsdLNs",
        "colab_type": "text"
      },
      "cell_type": "markdown",
      "source": [
        "## Our objective"
      ]
    },
    {
      "metadata": {
        "id": "PnAcgbQfdL_M",
        "colab_type": "text"
      },
      "cell_type": "markdown",
      "source": [
        "Our objective is to compute the Odds Ratio for $\\mathcal{H}_S$ vs $\\mathcal{H}_N$:\n",
        "\n",
        "\n",
        "---\n",
        "$\\textbf{The Odds ratio (our objective function)}$\n",
        "\n",
        "$O_{S,N}=\\frac{P(\\mathcal{H}_S|I)}{P(\\mathcal{H}_N|I)}\\frac{P(d|\\mathcal{H}_S,I)}{P(d|\\mathcal{H}_N,I)}$\n",
        "\n",
        "\n",
        "---\n",
        "\n",
        "\n",
        "We need to compute the prior odds and the posterior odds (Bayes factor). Starting with the prior odds: Let's imagine we have good knowledge about our experiment and that the probability of getting a signal is the same as probability of getting just noise:\n",
        "\n",
        "* $P(\\mathcal{H}_S|I) = P(\\mathcal{H}_N|I)$\n",
        "\n",
        "This might not be true for all experimemtns, but it simplifies our example without sacrificing any generality. The Odds ratio is then just\n",
        "\n",
        "* $O_{S,N}=\\frac{P(d|\\mathcal{H}_S,I)}{P(d|\\mathcal{H}_N,I)}$\n",
        "\n",
        "\n",
        "Our task, then, is to evaluate the evidences:\n",
        "\n",
        "* The \"noise\" evidence $P(d|\\mathcal{H}_N,I)$.\n",
        "\n",
        "* The \"signal\" evidence $P(d|\\mathcal{H}_S,I)$  \n"
      ]
    },
    {
      "metadata": {
        "id": "tw7QHVN3PNRS",
        "colab_type": "text"
      },
      "cell_type": "markdown",
      "source": [
        "### Hypotheses\n"
      ]
    },
    {
      "metadata": {
        "id": "Tx871ji1Bg1C",
        "colab_type": "text"
      },
      "cell_type": "markdown",
      "source": [
        "Our objective is to compute the Odds ratio which measures the relative probability that the data are described the a noise hypothesis or a signal hypothesis.\n",
        "\n",
        "We'll start with a simple case in which our data can either be pure Gaussian noise, or Gaussian noise with a known signal. Our aim will be to compute the Odds ratio that compares the two hypotheses. Writing things out a bit more formally, our hypotheses look like this:\n",
        "\n",
        "\n",
        "---\n",
        "\n",
        "\n",
        "$\\textbf{Noise Hypothesis}$\n",
        "* $\\mathcal{H}_N: d(f_k) = n(f_k)$\n",
        "\n",
        "with\n",
        "\n",
        "* $\\text{Re}\\, n(f_k) \\sim \\mathcal{N}(\\mu=0,\\sigma) \\,\\forall\\, f_k $\n",
        "* $\\text{Im}\\, n(f_k) \\sim \\mathcal{N}(\\mu=0,\\sigma) \\,\\forall\\, f_k $\n",
        "\n",
        "and \n",
        "\n",
        "* $\\sigma^2(f_k) =  \\text{PSD}(f_k) / (4\\Delta f)$\n",
        "\n",
        "where \n",
        "\n",
        "* $\\Delta f$ is the frequency resolution in the Fourier domain (here $\\Delta f$ = 1/4 Hz)\n",
        "\n",
        "and the factor of 4 comes from the definition of the FFT\n",
        "\n",
        "\n",
        "---\n",
        "\n",
        "\n",
        "$\\textbf{Signal Hypothesis}$\n",
        "* $\\mathcal{H}_S: d(f_k) = s(f_k) + n(f_k)$\n",
        "\n",
        "with\n",
        "\n",
        "* $s(f_k) = \\tilde{h}(f_k)$ is the GW given in the data file\n",
        "* $\\text{Re}\\, n(f_k) \\sim \\mathcal{N}(\\mu=0,\\sigma) \\,\\forall\\, f_k $\n",
        "* $\\text{Im}\\, n(f_k) \\sim \\mathcal{N}(\\mu=0,\\sigma) \\,\\forall\\, f_k $\n",
        "\n",
        "and \n",
        "\n",
        "* $\\sigma^2(f_k) =  \\text{PSD}(f_k) / (4\\Delta f)$\n",
        "\n",
        "\n",
        "---\n",
        "\n",
        "\n"
      ]
    },
    {
      "metadata": {
        "id": "051qUMR_dVCA",
        "colab_type": "text"
      },
      "cell_type": "markdown",
      "source": [
        "### The \"noise\" evidence"
      ]
    },
    {
      "metadata": {
        "id": "leRJRw6xdV0Z",
        "colab_type": "text"
      },
      "cell_type": "markdown",
      "source": [
        "\n",
        "\n",
        "The \"noise evidence\" $P(d|\\mathcal{H}_N,I)$ is conceptually the easiest to evaluate. Recall that\n",
        "\n",
        "* $\\mathcal{H}_N: d(f_k) = n(f_k)$\n",
        "\n",
        "with\n",
        "\n",
        "* $\\text{Re}\\, n(f_k) \\sim \\mathcal{N}(\\mu=0,\\sigma) \\,\\forall\\, f_k $\n",
        "* $\\text{Im}\\, n(f_k) \\sim \\mathcal{N}(\\mu=0,\\sigma) \\,\\forall\\, f_k $\n",
        "\n",
        "and \n",
        "\n",
        "* $\\sigma^2(f_k) =  \\text{PSD}(f_k) / (4\\Delta f)$\n",
        "\n",
        "Thus, the evidence is just the probability that the data are Gaussian:\n",
        "\n",
        "$P(d|\\mathcal{H}_N,I) = \\prod_k \\Big[\\text{Normal}_{\\text{PDF}}(\\text{Re}\\, d_k; \\mu=0,\\sigma) \\times \\text{Normal}_{\\text{PDF}}(\\text{Im}\\, d_k; \\mu=0,\\sigma)\\Big]$\n",
        "\n",
        "And the product follows from each data point being independent. \n",
        "\n",
        "We'll find that the numerical values of the probability density will be usually be either extremely small or extremely large, so its best to work with log probabilities. Let's code this up:\n",
        "\n",
        "\n"
      ]
    },
    {
      "metadata": {
        "id": "FoIXX3LlgGLW",
        "colab_type": "code",
        "outputId": "5e5a2cf0-aae5-4180-ca6d-5b4eed6955ad",
        "colab": {
          "base_uri": "https://localhost:8080/",
          "height": 35
        }
      },
      "cell_type": "code",
      "source": [
        "from scipy.stats import norm\n",
        "\n",
        "def log_evidence(data):\n",
        "    \n",
        "    data_real = data.values.real\n",
        "    data_imag = data.values.imag\n",
        "    \n",
        "    logL_real = np.sum( norm.logpdf(np.array(data_real), loc=0,\n",
        "                                    scale=np.sqrt(psd/(4*deltaF))) )\n",
        "    \n",
        "    logL_imag = np.sum( norm.logpdf(np.array(data_imag), loc=0,\n",
        "                                    scale=np.sqrt(psd/(4*deltaF) )))\n",
        "    \n",
        "    return logL_real + logL_imag\n",
        "\n",
        "log_likelihood_noise = log_evidence(data)\n",
        "print (log_likelihood_noise)"
      ],
      "execution_count": 0,
      "outputs": [
        {
          "output_type": "stream",
          "text": [
            "853195.2983053417\n"
          ],
          "name": "stdout"
        }
      ]
    },
    {
      "metadata": {
        "id": "aFNK9c0DdrY8",
        "colab_type": "text"
      },
      "cell_type": "markdown",
      "source": [
        "Thus the evidence of the data under the noise hypothesis is \n",
        "\n",
        "* $P(d|\\mathcal{H}_N,I) = 853195.3$\n",
        "\n",
        "Note that this is a log probability $\\textit{density}$: the integrated probability density over all data realizations is still 1. \n"
      ]
    },
    {
      "metadata": {
        "id": "jlkcBtBBd_Ss",
        "colab_type": "text"
      },
      "cell_type": "markdown",
      "source": [
        "### The \"signal\" evidence"
      ]
    },
    {
      "metadata": {
        "id": "7lcNp9bDeAV8",
        "colab_type": "text"
      },
      "cell_type": "markdown",
      "source": [
        "Now we need to compute the likelihood of the data under the signal hypothesis. The \"signal likelihood\" is more subtle.\n",
        "We know that we expect the noise to be Gaussian distributed, so we can \"rephrase\" the signal hypothesis to leverage the statistical uncertainty of the noise:\n",
        "\n",
        "$\\textbf{Signal Hypothesis}$\n",
        "* $\\mathcal{H}_S: n(f_k) = d(f_k) - s(f_k)$\n",
        "\n",
        "with\n",
        "\n",
        "* $s(f_k) = \\tilde{h}(f_k)$ is the GW given in the data file\n",
        "* $\\text{Re}\\, n(f_k) \\sim \\mathcal{N}(\\mu=0,\\sigma) \\,\\forall\\, f_k $\n",
        "* $\\text{Im}\\, n(f_k) \\sim \\mathcal{N}(\\mu=0,\\sigma) \\,\\forall\\, f_k $\n",
        "\n",
        "and \n",
        "\n",
        "* $\\sigma^2(f_k) =  \\text{PSD}(f_k) / (4\\Delta f)$\n",
        "\n",
        "Note that this is a $\\textit{model}$ for the noise. We expect the residual $d(f_k) - s(f_k)$ to be equal to the noise, which should be Gaussian distributed. Hence we can write the \"signal evidence\" as \n",
        "\n",
        "\n",
        "* $P(d|\\mathcal{H}_S,I) = \\prod_k \\Big[\\text{Normal}_{\\text{PDF}}(\\text{Re}\\, \\left[d_k - s_k\\right]; \\mu=0,\\sigma) \\times \\text{Normal}_{\\text{PDF}}(\\text{Im}\\, \\left[d_k - s_k\\right]; \\mu=0,\\sigma)\\Big]$"
      ]
    },
    {
      "metadata": {
        "id": "vnoKOFIBuMom",
        "colab_type": "code",
        "outputId": "57dc2662-08c1-4c1b-b4f0-e9fad487b283",
        "colab": {
          "base_uri": "https://localhost:8080/",
          "height": 34
        }
      },
      "cell_type": "code",
      "source": [
        " \n",
        "log_evidence_signal = log_evidence(data-signal)\n",
        "print(log_evidence_signal)"
      ],
      "execution_count": 0,
      "outputs": [
        {
          "output_type": "stream",
          "text": [
            "853804.3884908222\n"
          ],
          "name": "stdout"
        }
      ]
    },
    {
      "metadata": {
        "id": "WnTKDX5yeTDn",
        "colab_type": "text"
      },
      "cell_type": "markdown",
      "source": [
        "Thus the evidence of the data under the noise hypothesis is \n",
        "\n",
        "* $\\ln P(d|\\mathcal{H}_S,I) = 853804.4$\n"
      ]
    },
    {
      "metadata": {
        "id": "TGgKSY7ieYIi",
        "colab_type": "text"
      },
      "cell_type": "markdown",
      "source": [
        "### Putting it all together: The Odds Ratio"
      ]
    },
    {
      "metadata": {
        "id": "yKLLvPL0eY7d",
        "colab_type": "text"
      },
      "cell_type": "markdown",
      "source": [
        "We can now compute the (log) Odds Ratio. Inserting the numerical values, the log Odds ratio is\n",
        "\n",
        "* $\\ln O_{S,N}=\\ln P(d|\\mathcal{H}_S,I) - \\ln P(d|\\mathcal{H}_N,I) = 853804.4 - 853195.3 = 609.1\n",
        "$\n",
        "\n",
        "i.e., the odds favor the signal hypothesis over the noise hypothesis by a factor of exp(609.1)!\n",
        "\n"
      ]
    },
    {
      "metadata": {
        "id": "oR9sF5Fneurh",
        "colab_type": "text"
      },
      "cell_type": "markdown",
      "source": [
        "# Mid summary"
      ]
    },
    {
      "metadata": {
        "id": "gwgVL4DPexrM",
        "colab_type": "text"
      },
      "cell_type": "markdown",
      "source": [
        "* Hypothesis testing using the Odds ratio\n",
        "    * signal vs noise\n",
        "    * Assigned explicity probabilities to the hypothesis that the data contained: (a) signal + noise; (b) pure noise\n",
        "* Our current example considered hypotheses (descriptions of the data) that contained no free parameters\n",
        "    * We will now extend our hypotheses to include free, unknown parameters"
      ]
    },
    {
      "metadata": {
        "id": "iB2-Jgbje1hH",
        "colab_type": "text"
      },
      "cell_type": "markdown",
      "source": [
        "# Parameter estimation and hypothesis testing"
      ]
    },
    {
      "metadata": {
        "id": "e_BhkRg_MhMC",
        "colab_type": "text"
      },
      "cell_type": "markdown",
      "source": [
        "So far we have considered hypotheses with no free parameters, which is unrealistic. We would like include our uncertainty about the model parameters. Unless we have signals that are either \"on\" or \"off\", the signal parameters will be $\\textit{a priori}$ uknown and uncertain. \n",
        "Including uncertainty on the signal parameters would allow us to test, say, a “noise hypothesis” against a class of signal hypotheses. We would also like to know something about the unknown model parameters, e.g.,  the frequency and amplitude in our toy problem. More broadly, we could also encode uncertainty about the noise mean, variance etc… if these were also uncertain.\n",
        "\n",
        "Our Bayesian framework is flexible enough to do this and leads us to a joint framework for parameter estimation and hypothesis testing/model selection.\n"
      ]
    },
    {
      "metadata": {
        "id": "Ala7UZeHMhMD",
        "colab_type": "text"
      },
      "cell_type": "markdown",
      "source": [
        "To perform parameter estimation, we need to add another ingredient to the mix: the parameters. Our list of ingredients is now \n",
        "\n",
        "\n",
        "---\n",
        "\n",
        "\n",
        "* $d$: Observational data\n",
        "* $\\mathcal{H}_i$: An hypothesis that describes the data. For example, we could have a \"noise\" hypothesis $\\mathcal{H}_N$ that says the data is pure Gaussian noise with known mean and variance. In general, there could be an infinite number of hypotheses we could test with our data.\n",
        "* $\\theta$: A vector of parameters that describe the model which quantifies the hypothesis, for example, an unknown amplitude and/or frequency, noise mean, noise variance etc...\n",
        "* $I$: \"Prior\" information. This is $\\textit{a priori}$ knowledge about our expectations for the hypotheses before we learn from our data. For instance, we might give equal odds to their being a signal or noise.\n",
        "\n",
        "\n",
        "---\n",
        "\n",
        "\n"
      ]
    },
    {
      "metadata": {
        "id": "7CguqvLQsqW-",
        "colab_type": "text"
      },
      "cell_type": "markdown",
      "source": [
        "# Conditional probability and Bayes Theorem revisited"
      ]
    },
    {
      "metadata": {
        "id": "OpuKJdDzMhMF",
        "colab_type": "text"
      },
      "cell_type": "markdown",
      "source": [
        "We need to update Bayes theorem to include the parameter vector $\\theta$. It now reads\n",
        "\n",
        "$p(\\theta | d, \\mathcal{H}_i,I) = \\frac{p(\\theta|I)p(d|\\theta, \\mathcal{H}_i,I)}{p(d|\\mathcal{H}_i,I)}$\n",
        "\n",
        "where the RHS follows from basic rules of conditional probability. \n",
        "\n",
        "At this point it will be useful to adopt some new notation that better reflects the names of the quantities on the RHS. We can also do away with the implicit dependence on $I$ as it makes the arguments to the distributions a bit unwieldly and tedious to type out.\n",
        "\n",
        "I will use the following notation\n",
        "\n",
        "\n",
        "---\n",
        "\n",
        "\n",
        "$p(\\theta | d, \\mathcal{H}_i) = \\frac{\\pi(\\theta) \\mathcal{L}(d|\\theta, \\mathcal{H}_i)}{Z(d|\\mathcal{H}_i)}$\n",
        "\n",
        "\n",
        "---\n",
        "\n",
        "\n",
        "The terms have similar names to before, but slightly crisper.\n",
        "\n",
        "\n",
        "---\n",
        "\n",
        "\n",
        "* $p(\\theta | d, \\mathcal{H}_i)$ : $\\textbf{Posterior Probability}$ of the parameters $\\theta$. Posterior refers to $\\textit{a postiori}$, i.e., what we know about $\\theta$ after we analyze the data $d$.\n",
        "* $\\pi(\\theta)$: $\\textbf{Prior Probability}$ of the parameters $\\theta$. Prior refers to $\\textit{a priori}$, i.e., what we think we know about $\\theta$ before we analyze our data.\n",
        "* $\\mathcal{L}(d|\\theta, \\mathcal{H}_i)$: $\\textbf{Likelihood}$ of the data. This is the probability of the $\\textbf{data}$ given our parameters $\\theta$ and hypothesis $\\mathcal{H}_i$\n",
        "* $Z(d|\\mathcal{H}_i)$: $\\textbf{Evidence}\\,\\, (\\text{Marginal Likelihood})$. This is the probability of the data, given a particular hypotheses $\\mathcal{H}_i$\n",
        "\n",
        "\n",
        "\n",
        "---\n",
        "\n",
        "\n",
        "The Evidence is obtained by \"marginalizing\" the likelihood function $\\mathcal{L}$ over the parameters. Before we continue, a brief aside on marginalization."
      ]
    },
    {
      "metadata": {
        "id": "i_2As2KVMhMF",
        "colab_type": "text"
      },
      "cell_type": "markdown",
      "source": [
        "### Marginalization, or, How to compute the Evidence"
      ]
    },
    {
      "metadata": {
        "id": "xSAq0VGkMhMG",
        "colab_type": "text"
      },
      "cell_type": "markdown",
      "source": [
        "Marginalization just means \"integrating out\". We obtain the evidence by marinalizing the likehood, weighted by the prior, over the parameters $\\theta$\n",
        "\n",
        "Notice that because the posterior is normalized, \n",
        "\n",
        "$\\int d\\theta p(\\theta|d,\\mathcal{H}_i) = 1$\n",
        "\n",
        "Applying the integral to the RHS and rearranging, we find that\n",
        "\n",
        "$Z(d|\\mathcal{H}_i) = \\int d\\theta\\, \\pi(\\theta) \\mathcal{L}(d|\\theta, \\mathcal{H}_i)$\n",
        "\n",
        "Hence, the evidence is the probability of the data given $\\mathcal{H}_i$, accounting for all possible choices of the uncertain parameters $\\theta$.\n",
        "\n",
        "Thus, by performing parameter estimation we also obtain the ingredients we need to perform hypothesis testing with the Odds Ratio.\n",
        "\n",
        "Note that in our new notation: \n",
        "\n",
        "* $O_{S,N}=\\frac{P(\\mathcal{H}_S|I)}{P(\\mathcal{H}_N|I)}\\frac{Z(d|\\mathcal{H}_S)}{Z(d|\\mathcal{H}_N)}$"
      ]
    },
    {
      "metadata": {
        "id": "JAW9z2-0MhMH",
        "colab_type": "text"
      },
      "cell_type": "markdown",
      "source": [
        "# Worked Example: Combined parameter estimation and hypothesis testing"
      ]
    },
    {
      "metadata": {
        "id": "5eMVbOxsMhMI",
        "colab_type": "text"
      },
      "cell_type": "markdown",
      "source": [
        "We’re given the data without $\\textit{a priori}$ knowledge of: $(a)$ whether it contains a signal or not, and $(b)$ if there is a signal, we’re uncertain of its properties\n",
        "\n",
        "Question: \n",
        "* $(a)$ is the data more consistent with noise, or noise + signal\n",
        "* $(b)$ Under the assumption there is a signal, what is the signal frequency and amplitude?\n",
        "\n",
        "Question $(a)$ is hypothesis testing, and can be answered using the Odds Ratio. Question $(b)$ is parameter estimation. We'll start by answering question $(b)$ and move onto $(a)$.\n",
        "\n",
        "<img src=\"https://docs.google.com/uc?export=download&id=1-1aAls9ANI31whooIiwA2N7IPYYpB5Re\" width=\"650\">\n",
        "\n",
        "The data $d(f)$ here contains a synthetic gravitational-wave signal $h(f)$ and colored Gaussian noise $n(f)$, i.e.,\n",
        "​\n",
        "* $d(f) = h(f) + n(f)$"
      ]
    },
    {
      "metadata": {
        "id": "eSKLVpv1MhMI",
        "colab_type": "text"
      },
      "cell_type": "markdown",
      "source": [
        "## Parameter estimation"
      ]
    },
    {
      "metadata": {
        "id": "Bo9UKUMAMhMJ",
        "colab_type": "text"
      },
      "cell_type": "markdown",
      "source": [
        "\n",
        "We'll start by formalizing our hypotheses.\n",
        "\n",
        "\n",
        "---\n",
        "\n",
        "\n",
        "$\\textbf{Noise Hypothesis}$\n",
        "* $\\mathcal{H}_N: d(f_k) = n(f_k)$\n",
        "\n",
        "with\n",
        "\n",
        "* $\\text{Re}\\, n(f_k) \\sim \\mathcal{N}(\\mu=0,\\sigma) \\,\\forall\\, f_k $\n",
        "* $\\text{Im}\\, n(f_k) \\sim \\mathcal{N}(\\mu=0,\\sigma) \\,\\forall\\, f_k $\n",
        "\n",
        "and \n",
        "\n",
        "* $\\sigma^2(f_k) =  \\text{PSD}(f_k) / (4\\Delta f)$\n",
        "\n",
        "\n",
        "\n",
        "---\n",
        "\n",
        "\n",
        "$\\textbf{Signal Hypothesis}$\n",
        "* $\\mathcal{H}_S: n(f_k) = d(f_k) - s(\\theta;f_k)$\n",
        "\n",
        "with\n",
        "\n",
        "* $s(\\theta;f_k) = \\tilde{h}(\\theta;f_k)$ is a $\\textit{parameterized}$ GW defined below\n",
        "\n",
        "where we have bundled the $\\textit{a priori}$ unknown signal parameters into a vetctor $\\theta$\n",
        "\n",
        "* $\\text{Re}\\, n(f_k) \\sim \\mathcal{N}(\\mu=0,\\sigma) \\,\\forall\\, f_k $\n",
        "* $\\text{Im}\\, n(f_k) \\sim \\mathcal{N}(\\mu=0,\\sigma) \\,\\forall\\, f_k $\n",
        "\n",
        "and \n",
        "\n",
        "* $\\sigma^2(f_k) =  \\text{PSD}(f_k) / (4\\Delta f)$\n",
        "\n",
        "\n",
        "\n",
        "---\n",
        "\n"
      ]
    },
    {
      "metadata": {
        "id": "NbQ3FoxEfY22",
        "colab_type": "text"
      },
      "cell_type": "markdown",
      "source": [
        "Let's begin by defining what we mean by our singal model as a function of :\n",
        "\n",
        "\n",
        "---\n",
        "\n",
        "\n",
        "* the primary masses $m_1(M_{\\odot})$, and \n",
        "* The distance to the source $D(\\text{Mpc})$ . \n",
        "\n",
        "and we bundle the mass and distance into the vector $\\theta$\n",
        "\n",
        "* $\\theta = (m_1, D)$\n",
        "\n",
        "\n",
        "---\n",
        "\n",
        "\n",
        "The function is defined below (notice that it's based heavily on the function we saw in Lecture 1). The function takes as input two masses and return a sum of $\\tilde{h}_{+}$ and $\\tilde{h}_{\\times}$, i.e., the output is a Fourier domain strain\n",
        "\n",
        "\n",
        "---\n",
        "\n",
        "\n",
        "* $\\tilde{h}(\\theta;f) = \\tilde{h}_{+}+\\tilde{h}_{\\times}$\n",
        "\n",
        "\n",
        "---\n",
        "\n",
        "\n",
        "The other parameters which catagorize the source are fixed to the values defined within the function. \n",
        "\n",
        "* The other parameter values are fixed to the true values of the signal contained in the data.\n",
        "\n",
        "The frequency range over which the signal is defined is :\n",
        "\n",
        "* $0\\text{Hz} \\leq f \\leq 2048\\text{Hz} $\n",
        "\n",
        "and the signal has no content below $f=20$Hz (this is unphysical, but it is equivalent to saying that we don't care about the content of the signal below $20$Hz)"
      ]
    },
    {
      "metadata": {
        "id": "PyPHk_I7fQXK",
        "colab_type": "code",
        "colab": {}
      },
      "cell_type": "code",
      "source": [
        "def frequency_domain_GWsignal(m1,dist):\n",
        "  \n",
        "  longAscNodes = 0 # this is all book keeping\n",
        "  eccentricity = 0 # Assume circular orbit\n",
        "  meanPerAno = 0\n",
        "\n",
        "  WFdict = lal.CreateDict()\n",
        "\n",
        "  lalsim.SimInspiralWaveformParamsInsertFrameAxis(WFdict, 2)\n",
        "  lalsim.SimInspiralWaveformParamsInsertPNSpinOrder(WFdict, -1)\n",
        "  lalsim.SimInspiralWaveformParamsInsertPNTidalOrder(WFdict, -1)\n",
        "  lalsim.SimInspiralWaveformParamsInsertPNPhaseOrder(WFdict, -1)\n",
        "  lalsim.SimInspiralWaveformParamsInsertPNAmplitudeOrder(WFdict, -1)\n",
        "  lalsim.SimInspiralWaveformParamsInsertTidalLambda1(WFdict, 0.0)\n",
        "  lalsim.SimInspiralWaveformParamsInsertTidalLambda2(WFdict, 0.0)\n",
        "  \n",
        "  approx = lalsim.IMRPhenomD\n",
        "  \n",
        "  m2 = 30\n",
        "  s1 = [0.0, 0.0, 0.0]\n",
        "  s2 = [0.0, 0.0, 0.0]\n",
        "  #dist = 1500. # Distance in Mpc\n",
        "  iota = 0 # Inclination \n",
        "  phi_c = 0. # Overall phase\n",
        "    \n",
        "  f_high = 2048.\n",
        "  f_low= 20.\n",
        "  f_ref=10.\n",
        "  hplus, hcross = lalsim.SimInspiralChooseFDWaveform(m1 * lal.MSUN_SI, \n",
        "                                                     m2 * lal.MSUN_SI,\\\n",
        "                                                     s1[0], s1[1], s1[2],\\\n",
        "                                                     s2[0], s2[1], s2[2],\\\n",
        "                                                     dist * 1e6 * lal.PC_SI, \n",
        "                                                     iota, phi_c,\\\n",
        "                                                     longAscNodes, \n",
        "                                                     eccentricity, meanPerAno,\n",
        "                                                     deltaF, f_low, f_high,\n",
        "                                                     f_ref,\\\n",
        "                                                     WFdict, approx)\n",
        "    \n",
        "  hp = hplus.data.data # Data as numpy array\n",
        "  hc = hcross.data.data\n",
        "  \n",
        "  fseries = np.linspace(0,f_high, len(hp))\n",
        "  \n",
        "  return hp+hc"
      ],
      "execution_count": 0,
      "outputs": []
    },
    {
      "metadata": {
        "id": "yTc0tlsRlVfp",
        "colab_type": "text"
      },
      "cell_type": "markdown",
      "source": [
        "### Our objective"
      ]
    },
    {
      "metadata": {
        "id": "_AQav3-5lzpo",
        "colab_type": "text"
      },
      "cell_type": "markdown",
      "source": [
        "\n",
        "We'll bundle the parameters into a single vector $\\theta = (m_1, D)$. Writing out the posterior (Again) in fulll, our $\\textbf{objective is to compute}$ \n",
        "\n",
        "\n",
        "$p(\\theta | d, \\mathcal{H}_S) = \\frac{\\pi(\\theta) \\mathcal{L}(d|\\theta, \\mathcal{H}_S)}{Z(d|\\mathcal{H}_S)}$\n",
        "\n",
        "The output of this exercise is a 2-dimensional probability distribution over $(m_1, D)$, shown below:\n",
        "\n",
        "<img src=\"https://docs.google.com/uc?export=download&id=1-NcKSVvUUZyXjM9IrOvQ39EbT7WxE31p\" width=\"400\">\n",
        "\n",
        "\n",
        "The shading corresponds to the probability density (dark = high probability) $p(\\theta | d, \\mathcal{H}_S)$\n",
        "\n",
        "We can ignore the denominator for now, as its \"just\" a normalization. For the time being we'd like to compute the numerator which involves computing:\n",
        "\n",
        "* $\\pi(\\theta)$: $\\textbf{Prior Probability}$ of the parameters $\\theta$. Prior refers to $\\textit{a priori}$, i.e., what we think we know about $\\theta$ before we analyze our data.\n",
        "* $\\mathcal{L}(d|\\theta, \\mathcal{H}_S)$: $\\textbf{Likelihood}$ of the data. This is the probability of the $\\textbf{data}$ given our parameters $\\theta$ and hypothesis $\\mathcal{H}_S$\n",
        "\n"
      ]
    },
    {
      "metadata": {
        "id": "13LXPMNmla21",
        "colab_type": "text"
      },
      "cell_type": "markdown",
      "source": [
        "### The prior distribtion on the signal parameters"
      ]
    },
    {
      "metadata": {
        "id": "7scjYl7zlN4-",
        "colab_type": "text"
      },
      "cell_type": "markdown",
      "source": [
        "Here we have some freedom to choose the distributions. We can inform prior distributions in any way we like, but they should reflect knowledge of our expectations, such as might be obtained through past experiments. Here, we'll assume convenient priors which encode ignorance on the values of the amplitude and frequency: \n",
        "\n",
        "* $\\pi(m_1) = \\text{Uniform}(29M_{\\odot},31M_{\\odot})$\n",
        "* $\\pi(D) = \\text{Uniform}(1400\\text{Mpc}, 1600\\text{Mpc})$\n",
        "* $\\pi(\\theta) = \\pi(m_1)\\pi(D)$\n",
        "\n",
        "\n"
      ]
    },
    {
      "metadata": {
        "id": "rOkISVZSndtg",
        "colab_type": "text"
      },
      "cell_type": "markdown",
      "source": [
        "### The parameterized likelihood function"
      ]
    },
    {
      "metadata": {
        "id": "52SSal0-lTRF",
        "colab_type": "text"
      },
      "cell_type": "markdown",
      "source": [
        "Our signal hypothesis for the data is\n",
        "\n",
        "$\\textbf{Signal Hypothesis}$\n",
        "* $\\mathcal{H}_S: n(f_k) = d(f_k) - s(\\theta;f_k)$\n",
        "\n",
        "with\n",
        "\n",
        "* $s(\\theta;f_k) = \\tilde{h}(\\theta;f_k)$ is a $\\textit{parameterized}$ GW defined below\n",
        "\n",
        "where we have bundled the $\\textit{a priori}$ unknown signal parameters into a vetctor $\\theta$\n",
        "\n",
        "* $\\text{Re}\\, n(f_k) \\sim \\mathcal{N}(\\mu=0,\\sigma) \\,\\forall\\, f_k $\n",
        "* $\\text{Im}\\, n(f_k) \\sim \\mathcal{N}(\\mu=0,\\sigma) \\,\\forall\\, f_k $\n",
        "\n",
        "and \n",
        "\n",
        "* $\\sigma^2(f_k) =  \\text{PSD}(f_k) / (4\\Delta f)$\n",
        "\n",
        "\n",
        "---\n",
        "\n",
        "\n",
        "Our likelihood for real and imaginary parts of the data under the signal hypothesis is \n",
        "\n",
        "* $\\mathcal{L}(\\text{Re}\\,d|\\mathcal{H}_S,I) = \\prod_k \\text{Normal}_{\\text{PDF}}(\\text{Re}\\, \\left[d_k - s_k(\\theta)\\right]; \\mu=0,\\sigma) $\n",
        "\n",
        "* $\\mathcal{L}(\\text{Im}\\,d|\\mathcal{H}_S,I) = \\prod_k \\text{Normal}_{\\text{PDF}}(\\text{Im}\\, \\left[d_k - s_k(\\theta)\\right]; \\mu=0,\\sigma) $\n",
        "\n",
        "and the products follow from the data being independent at each frequency bin.\n",
        "\n",
        "Because the real and imaginary components of the data are independent, the full likelihood of the data is just a product of the two:\n",
        "\n",
        "\n",
        "---\n",
        "\n",
        "\n",
        "* $\\mathcal{L}(d|\\mathcal{H}_S,I) = \\prod_k \\Big[\\text{Normal}_{\\text{PDF}}(\\text{Re}\\, \\left[d_k - s_k(\\theta)\\right]; \\mu=0,\\sigma) \\times \\text{Normal}_{\\text{PDF}}(\\text{Im}\\, \\left[d_k - s_k(\\theta)\\right]; \\mu=0,\\sigma)\\Big]$\n",
        "\n",
        "\n",
        "---\n",
        "\n",
        "\n",
        "Let's start by coding up the likelihood and prior."
      ]
    },
    {
      "metadata": {
        "id": "-i1rJCxHMhMK",
        "colab_type": "code",
        "colab": {}
      },
      "cell_type": "code",
      "source": [
        "from scipy.stats import uniform\n",
        "\n",
        "m_min = 29\n",
        "m_max = 31\n",
        "D_min = 1400\n",
        "D_max = 1600\n",
        "\n",
        "\n",
        "def log_prior(m1,D):\n",
        "    log_prior_m1 = uniform.logpdf(m1, loc=m_min, scale=m_max)\n",
        "    log_prior_D = uniform.logpdf(D, loc=D_min, scale=D_max)\n",
        "    log_prior_theta = log_prior_m1 + log_prior_D\n",
        "    return log_prior_theta\n",
        "\n",
        "def logL_signal(data, frequency_domain_GWsignal, m1, D):\n",
        "\n",
        "        signal_m1D = frequency_domain_GWsignal(m1,D)\n",
        "        \n",
        "        res = data-signal_m1D\n",
        "        \n",
        "        log_L_real = np.sum( norm.logpdf(res.real, \\\n",
        "                                         loc=0, scale=np.sqrt(psd*4*deltaF)) )\n",
        "      \n",
        "        log_L_imag = np.sum( norm.logpdf(res.imag, \\\n",
        "                                         loc=0, scale=np.sqrt(psd*4*deltaF)) )\n",
        "    \n",
        "        return log_L_real+log_L_imag\n",
        " "
      ],
      "execution_count": 0,
      "outputs": []
    },
    {
      "metadata": {
        "id": "DFvYxBlxak9A",
        "colab_type": "text"
      },
      "cell_type": "markdown",
      "source": [
        "### Grid-based exploration"
      ]
    },
    {
      "metadata": {
        "id": "9OtQ8Wd4MhMM",
        "colab_type": "text"
      },
      "cell_type": "markdown",
      "source": [
        "We can evaluate the likleihood and prior on a grid on frequency-amplitude space:"
      ]
    },
    {
      "metadata": {
        "id": "cdXF4BQZMhMM",
        "colab_type": "code",
        "colab": {}
      },
      "cell_type": "code",
      "source": [
        "m1_grid = np.linspace(m_min, m_max, 100)\n",
        "D_grid = np.linspace(D_min, D_max, 100)\n",
        "\n",
        "twoD_log_post = np.zeros(shape=(len(m1_grid),len(D_grid)))\n",
        "\n",
        "for i,m1 in enumerate(m1_grid):\n",
        "    \n",
        "    for j,D in enumerate(D_grid):\n",
        "              \n",
        "        log_L = logL_signal(data, frequency_domain_GWsignal, m1, D)\n",
        "        \n",
        "        log_pi = log_prior(m1,D)\n",
        "        \n",
        "        twoD_log_post[i][j] = log_pi + log_L"
      ],
      "execution_count": 0,
      "outputs": []
    },
    {
      "metadata": {
        "id": "Th7HBM3KMhMQ",
        "colab_type": "code",
        "colab": {}
      },
      "cell_type": "code",
      "source": [
        "## exponentiate the log likelihood\n",
        "\n",
        "# first: regularize\n",
        "reg = np.max(twoD_log_post)\n",
        "twoD_post_regularized = np.exp(twoD_log_post-reg)\n"
      ],
      "execution_count": 0,
      "outputs": []
    },
    {
      "metadata": {
        "id": "89mxIWuCiee9",
        "colab_type": "code",
        "outputId": "da1b4776-5089-4859-b779-097bc5e38300",
        "colab": {
          "base_uri": "https://localhost:8080/",
          "height": 288
        }
      },
      "cell_type": "code",
      "source": [
        "plt.imshow(twoD_post_regularized,origin='lower',\n",
        "          extent=[29,31,1400,1600],aspect='auto',\n",
        "          interpolation='bilinear',cmap=plt.cm.Blues)\n",
        "plt.axhline(1500)\n",
        "plt.axvline(30)\n",
        "plt.ylim(1490,1510)\n",
        "plt.xlabel(r'$m_1\\,(M_{\\odot})$')\n",
        "plt.ylabel(r'$D\\,(\\mathrm{Mpc})$')\n",
        "plt.savefig(\"/content/gdrive/My Drive/InvisibleUniverse/images/p_m1_D.png\",bbox_inches='tight',dpi=100)"
      ],
      "execution_count": 0,
      "outputs": [
        {
          "output_type": "display_data",
          "data": {
            "image/png": "[encoded data removed]",
            "text/plain": [
              "<matplotlib.figure.Figure at 0x7f0a0f8a6668>"
            ]
          },
          "metadata": {
            "tags": [],
            "image/png": {
              "width": 459,
              "height": 271
            }
          }
        }
      ]
    },
    {
      "metadata": {
        "id": "l-3WkB4-MqV9",
        "colab_type": "text"
      },
      "cell_type": "markdown",
      "source": [
        "## Hypothesis testing\n"
      ]
    },
    {
      "metadata": {
        "id": "Ja_8tSF_JGLP",
        "colab_type": "text"
      },
      "cell_type": "markdown",
      "source": [
        "### Our objective"
      ]
    },
    {
      "metadata": {
        "id": "frUpKwxZMhMW",
        "colab_type": "text"
      },
      "cell_type": "markdown",
      "source": [
        "In our new notation, the Odds ratio is\n",
        "\n",
        "* $O_{S,N}=\\frac{P(\\mathcal{H}_S|I)}{P(\\mathcal{H}_N|I)}\\frac{Z(d|\\mathcal{H}_S)}{Z(d|\\mathcal{H}_N)}$\n",
        "\n",
        "\n",
        "\n",
        "The evidence can be found by marginalizing the likelihood $\\times$ prior over the 2D parameter space. As we are dealing with very small probabilities, it's way easier to work solely with log probabilities. We can perform the 2D integrals using the handy $\\texttt{logsumexp}$ function in $\\texttt{scipy}$. \n",
        "\n",
        "Recall:\n",
        "\n",
        "* $Z(d|\\mathcal{H}_i) = \\int d\\theta\\, \\pi(\\theta) \\mathcal{L}(d|\\theta, \\mathcal{H}_i)$\n",
        "\n",
        "which in our case is a 2D integral over A and f\n",
        "\n",
        "\n",
        "* $Z(d|\\mathcal{H}_S) = \\int d m_1\\,dD\\, \\pi(m_1,D) \\mathcal{L}(d|(m_1,D), \\mathcal{H}_S)$"
      ]
    },
    {
      "metadata": {
        "id": "tEegc9bUMhMX",
        "colab_type": "code",
        "outputId": "6086f956-4798-4dd7-a56f-a861d8da355c",
        "colab": {
          "base_uri": "https://localhost:8080/",
          "height": 34
        }
      },
      "cell_type": "code",
      "source": [
        "from scipy.special import logsumexp\n",
        "\n",
        "dm1 = m1_grid[1]-m1_grid[0]\n",
        "dD = D_grid[1]-D_grid[0]\n",
        "## perform 2D integration\n",
        "# first integrate over m1\n",
        "integrate_over_m1 = logsumexp(twoD_log_post,axis=0,b=dm1)    \n",
        "# now integrate over D \n",
        "log_evidence = logsumexp(integrate_over_m1,b=dD)\n",
        "print(log_evidence)"
      ],
      "execution_count": 0,
      "outputs": [
        {
          "output_type": "stream",
          "text": [
            "853796.3219427508\n"
          ],
          "name": "stdout"
        }
      ]
    },
    {
      "metadata": {
        "id": "HSwQaHaRMhMZ",
        "colab_type": "text"
      },
      "cell_type": "markdown",
      "source": [
        "We find that \n",
        "\n",
        "* $Z(d|\\mathcal{H}_S) =  853796.3$\n",
        "\n",
        "and the noise evidence is unchanged. In our new notation:\n",
        "\n",
        "* $Z(d|\\mathcal{H}_N) =  853195.3$\n",
        "\n",
        "\n",
        "Again, let's assume equal prior probabilities so that $P(\\mathcal{H}_S|I) = P(\\mathcal{H}_N|I)$ and \n",
        "\n",
        "* $O_{S,N}=\\frac{Z(d|\\mathcal{H}_S)}{Z(d|\\mathcal{H}_N)}$\n",
        "\n",
        "and \n",
        "\n",
        "* $\\ln O_{S,N} = 853796.3 - 853195.3 = 601$\n",
        "\n",
        "Recall, that previously we had\n",
        "\n",
        "* $\\ln O_{S,N}= 609.1$\n",
        "\n"
      ]
    },
    {
      "metadata": {
        "id": "uHyM6UeNMhMb",
        "colab_type": "text"
      },
      "cell_type": "markdown",
      "source": [
        "## Occam's Razor"
      ]
    },
    {
      "metadata": {
        "id": "eMWC8AADMhMb",
        "colab_type": "text"
      },
      "cell_type": "markdown",
      "source": [
        "Notice that the Odds Ratio is smaller than when we knew the signal exactly.\n",
        "\n",
        "<img src=\"https://docs.google.com/uc?export=download&id=1_u0wcLT3USf4jOoMpldPVfvb73La52DA\" width=\"350\">\n",
        "\n",
        "\n",
        "This is an example of $\\textbf{Occam’s Razor}$: \"The simplest explanation is probably the correct one.\" \n",
        "\n",
        "We introduce uncertainty by introducing more free parameters to our models and incur a “probabilistic penalty”. By expanding the parameter space, the probability of the signal hypothesis is \"smeared out\" over the prior volume as we allow for more ways in which the data could be realized. This lowers the probability of the $\\textit{specific}$ realization of the data that we actually have.\n",
        "\n",
        "As a rule of thumb, the simplest hypothesis is usually favored, i.e., the one with the fewest parameters. However, this must be taken with a pinch of salt. Obviously, the correct model should be favored, irrespective of its intrinsic dimensionality. What we really mean is that $\\textit{overly-complex}$ models get penalized.\n"
      ]
    },
    {
      "metadata": {
        "id": "B-Ux2tr1MhMd",
        "colab_type": "text"
      },
      "cell_type": "markdown",
      "source": [
        "# Low-dimensional representations: Marginalized 1D PDFs"
      ]
    },
    {
      "metadata": {
        "id": "aPPk7pMVMhMd",
        "colab_type": "text"
      },
      "cell_type": "markdown",
      "source": [
        "It is often useful to look at 1D projections of the full posterior, i.e., 1D PDFs that give the probability of $\\text{just}$ the amplitude or just the frequency. The 1D PDFs are obtained by marginalizing over the other parameters, for example:\n",
        "\n",
        "* $p(m_1|d,\\mathcal{H}_S) = \\int\\,dD\\, p(\\theta=(m_1,D)|d,\\mathcal{H}_S)$ \n",
        "* $p(D|d,\\mathcal{H}_S) = \\int\\,dm_1\\, p(\\theta=(m_1,D)|d,\\mathcal{H}_S)$ \n",
        "\n"
      ]
    },
    {
      "metadata": {
        "id": "ns87d0mlMhMd",
        "colab_type": "code",
        "colab": {}
      },
      "cell_type": "code",
      "source": [
        "from scipy.special import logsumexp\n",
        "\n",
        "# normalize the 2D PDF:\n",
        "\n",
        "twoD_log_post_normalized = twoD_log_post - log_evidence\n",
        "\n",
        "# integration elements\n",
        "dm1 =  m1_grid[1]-m1_grid[0]\n",
        "dD = D_grid[1]-D_grid[0]\n",
        "\n",
        "# log of the 1D pdfs\n",
        "log_pdf_m1 = logsumexp(twoD_log_post_normalized,axis=0,b=dD)    \n",
        "log_pdf_D = logsumexp(twoD_log_post_normalized,axis=1,b=dm1)\n"
      ],
      "execution_count": 0,
      "outputs": []
    },
    {
      "metadata": {
        "id": "3BnpjJKZMhMh",
        "colab_type": "code",
        "outputId": "d7279e6f-407c-4ed0-f62f-961f53201094",
        "colab": {
          "base_uri": "https://localhost:8080/",
          "height": 299
        }
      },
      "cell_type": "code",
      "source": [
        "plt.plot(m1_grid, np.exp(log_pdf_m1))\n",
        "plt.axvline(30)\n",
        "plt.xlim(29,31)\n",
        "plt.ylabel(r'$p(m_1|d,\\mathcal{H}_S,I)$')\n",
        "plt.xlabel(r'$m1 (M_{\\odot})$')\n"
      ],
      "execution_count": 0,
      "outputs": [
        {
          "output_type": "execute_result",
          "data": {
            "text/plain": [
              "Text(0.5,0,'$m1 (M_{\\\\odot})$')"
            ]
          },
          "metadata": {
            "tags": []
          },
          "execution_count": 86
        },
        {
          "output_type": "display_data",
          "data": {
            "image/png": "[encoded data removed]",
            "text/plain": [
              "<matplotlib.figure.Figure at 0x7f0a0f9f48d0>"
            ]
          },
          "metadata": {
            "tags": [],
            "image/png": {
              "width": 441,
              "height": 265
            }
          }
        }
      ]
    },
    {
      "metadata": {
        "id": "bnJSpuhCMhMk",
        "colab_type": "code",
        "outputId": "4a06ec68-7710-44d3-ac3d-bb3ca5fb53be",
        "colab": {
          "base_uri": "https://localhost:8080/",
          "height": 301
        }
      },
      "cell_type": "code",
      "source": [
        "\n",
        "plt.plot(D_grid, np.exp(log_pdf_D))\n",
        "plt.axvline(1500)\n",
        "plt.ylabel('$p(D|d,\\mathcal{H}_S)$')\n",
        "plt.xlabel(r'$D (\\mathrm{Mpc})$')\n",
        "plt.xlim(1475,1525)"
      ],
      "execution_count": 0,
      "outputs": [
        {
          "output_type": "execute_result",
          "data": {
            "text/plain": [
              "(1475, 1525)"
            ]
          },
          "metadata": {
            "tags": []
          },
          "execution_count": 92
        },
        {
          "output_type": "display_data",
          "data": {
            "image/png": "[encoded data removed]",
            "text/plain": [
              "<matplotlib.figure.Figure at 0x7f0a0f9bb630>"
            ]
          },
          "metadata": {
            "tags": [],
            "image/png": {
              "width": 420,
              "height": 267
            }
          }
        }
      ]
    },
    {
      "metadata": {
        "id": "pghEvmY9MhMl",
        "colab_type": "text"
      },
      "cell_type": "markdown",
      "source": [
        "# When is a signal detectable? And, when is an hypothesis true?\n",
        "## How big does the Odds ratio have to be?\n"
      ]
    },
    {
      "metadata": {
        "id": "7hH-LZ_RMhMm",
        "colab_type": "text"
      },
      "cell_type": "markdown",
      "source": [
        "This is often a very subjective question and is often where folk lore creeps in. The question of detectability (using the Odds ratio) is really\n",
        "* How strongly do the odds have to favor one hypothesis over another\n",
        "\n",
        "Many authors have different criterion, rules of thumb, and lore. For instance, Jeffreys suggested the following table (from wikipedia)\n",
        "\n",
        "<img src=\"https://docs.google.com/uc?export=download&id=1PwfwgIVN-S3wJyf6GXjlrkW3_7TdSvbl\" width=\"400\">\n",
        "\n",
        "\n",
        "* Here, K is essentially the Odds ratio\n",
        "\n",
        "Another widely cited table from Kass and Raftery (1995) suggests:\n",
        "\n",
        "<img src=\"https://docs.google.com/uc?export=download&id=19_Up_2uy0f1DwNzR8s6NR64MW1cGsGKA\" width=\"418\">\n",
        "\n",
        "\n",
        "* Which one, if any, should we use?\n",
        "\n",
        "I think tables and rules of thumb such as these, while possibly giving a good baseline, are unnecessary and belie the true meaning of the Odds ratio. \n",
        "\n",
        "* The odds give a natural interpretation of the relativie probabilities of two competing hypotheses\n",
        "\n",
        "A \"natural\" way of deciding when to believe an hypothesis is true (as measured against a null hypothesis, e.g., the data are noise) would be to ask \"what is the acceptable false detection rate?\". \n",
        "\n",
        "For instance, if we set a threshold odds ratio of \n",
        "\n",
        "* $O_{S,N} = 1/3 \\,,$\n",
        "\n",
        "it would mean that data $\\textit{on}$ the threshold would yield false detections $2/3$ of the time. Similarly, odds ratios that are marginally higher would also allow for false detections with high frequency.\n",
        "\n",
        "<img src=\"https://docs.google.com/uc?export=download&id=1qrbl4uBqtVqU0G6suaSeMsxIayOVTijy\" width=\"418\">\n",
        "\n",
        "(Ashton et al (Monash U, 2019), in prep)\n",
        "\n",
        "* $\\mathcal{R} = \\frac{\\text{Number of signal instances with}\\, O_{S,N} }{\\text{Number of noise instances with}\\, O_{S,N}}$\n",
        "\n",
        "* Correct Odds $\\rightarrow$ $\\mathcal{R} = O_{S,N}$\n",
        "\n",
        "* Intuitively: an odds of X implies it is X-times\n",
        "more probable a signal than noise.\n",
        "\n",
        "I won't suggest what is a good Odds-ratio threshold: this is up to the specifics of the experiment, the use of the data, and the judgement of the data analysts. Rather, I recommend taking the Odds ratio at face value and picking a threshold value that is sufficient to only allow false detections at some acceptable rate. \n"
      ]
    },
    {
      "metadata": {
        "id": "JWqM_VGpMhMo",
        "colab_type": "text"
      },
      "cell_type": "markdown",
      "source": [
        "# Summary"
      ]
    },
    {
      "metadata": {
        "id": "oOvGKJMhMhMo",
        "colab_type": "text"
      },
      "cell_type": "markdown",
      "source": [
        "* Hypothesis testing:\n",
        "    * Constructed the Odds ratio to assign probabiilities to hypotheses of the data\n",
        "    * Computed $\\textit{evidences}$: the probability of the data under an hypothesis\n",
        "    * Marginalized over free parameters to compute evidences where we are uncertain about models\n",
        "* Parameter estimatimation:\n",
        "    * Constructed $\\textit{posterior PDFs}$ that give the probability of model parameters\n",
        "    * Constructed $\\textit{likelihood}$ functions and proiors \n",
        "    * Integrated prior-weighted likelihoods over parameters to comptue evidences \n",
        "* Marginalization:\n",
        "    * Constructed 1D PDFs from 2D"
      ]
    }
  ]
}