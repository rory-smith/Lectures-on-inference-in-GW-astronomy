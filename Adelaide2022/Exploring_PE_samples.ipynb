{
 "cells": [
  {
   "cell_type": "code",
   "execution_count": null,
   "metadata": {
    "colab": {
     "base_uri": "https://localhost:8080/"
    },
    "id": "ogG9CbKn97Pg",
    "outputId": "39a535f3-b000-4ff7-aeb4-c9374355702b"
   },
   "outputs": [
    {
     "name": "stdout",
     "output_type": "stream",
     "text": [
      "Looking in indexes: https://pypi.org/simple, https://us-python.pkg.dev/colab-wheels/public/simple/\n",
      "Collecting corner\n",
      "  Downloading corner-2.2.1-py3-none-any.whl (15 kB)\n",
      "Requirement already satisfied: matplotlib>=2.1 in /usr/local/lib/python3.7/dist-packages (from corner) (3.2.2)\n",
      "Requirement already satisfied: kiwisolver>=1.0.1 in /usr/local/lib/python3.7/dist-packages (from matplotlib>=2.1->corner) (1.4.3)\n",
      "Requirement already satisfied: cycler>=0.10 in /usr/local/lib/python3.7/dist-packages (from matplotlib>=2.1->corner) (0.11.0)\n",
      "Requirement already satisfied: python-dateutil>=2.1 in /usr/local/lib/python3.7/dist-packages (from matplotlib>=2.1->corner) (2.8.2)\n",
      "Requirement already satisfied: numpy>=1.11 in /usr/local/lib/python3.7/dist-packages (from matplotlib>=2.1->corner) (1.21.6)\n",
      "Requirement already satisfied: pyparsing!=2.0.4,!=2.1.2,!=2.1.6,>=2.0.1 in /usr/local/lib/python3.7/dist-packages (from matplotlib>=2.1->corner) (3.0.9)\n",
      "Requirement already satisfied: typing-extensions in /usr/local/lib/python3.7/dist-packages (from kiwisolver>=1.0.1->matplotlib>=2.1->corner) (4.1.1)\n",
      "Requirement already satisfied: six>=1.5 in /usr/local/lib/python3.7/dist-packages (from python-dateutil>=2.1->matplotlib>=2.1->corner) (1.15.0)\n",
      "Installing collected packages: corner\n",
      "Successfully installed corner-2.2.1\n"
     ]
    }
   ],
   "source": [
    "!pip install corner"
   ]
  },
  {
   "cell_type": "code",
   "execution_count": null,
   "metadata": {
    "id": "LqbgWiG88GeZ"
   },
   "outputs": [],
   "source": [
    "import corner\n",
    "import pylab as plt\n",
    "import numpy as np\n",
    "import pandas as pd"
   ]
  },
  {
   "cell_type": "markdown",
   "metadata": {
    "id": "O8bnHpypLsid"
   },
   "source": [
    "# GW150914 Masses"
   ]
  },
  {
   "cell_type": "markdown",
   "metadata": {
    "id": "k2atTIcVLYRQ"
   },
   "source": [
    "\n",
    "\n",
    "1.   Explore the GW150914 samples. Load the GW150914 pickle as a pandas data frame. Make a corner plot of the two component masses, luminosity distance, and any other parameters that take your interest\n",
    "2. Uncertainty quantification: compute the median value for the lab-frame component masses, and the upper and lower 90% credible intervals. Hint: make a CDF of the samples and look at the first and last 5% of the samples (90% of the probability is between these values)\n",
    "3. The component masses are not the best determined combination of the binary's masses. Take the source or lab frame component masses and convert into chirp mass and symmetric mass ratio. What do you notice about the uncertainty in these parameters? Hint: the chirp mass and symmetric mass ratio are defined as \n",
    "\n",
    "* $\\mathcal{M}_c = (m_1 m_2)^{3/5} / (M_{\\text{total}}^{1/5})$\n",
    "* $\\eta = (m_1 m_2) / M_{\\text{total}}^2$\n",
    "\n",
    "\n",
    "\n",
    "\n",
    "\n",
    "\n"
   ]
  },
  {
   "cell_type": "markdown",
   "metadata": {
    "id": "tuiHfkboLyew"
   },
   "source": [
    "# GW150914 Spins"
   ]
  },
  {
   "cell_type": "markdown",
   "metadata": {
    "id": "K-jWivhlL0RJ"
   },
   "source": [
    "1. Make a corner plot of the spin magnitudes. Is there strong evidence for non-zero spin in the system?"
   ]
  },
  {
   "cell_type": "markdown",
   "metadata": {
    "id": "hNRT7y8XL-l6"
   },
   "source": [
    "# GW170817 Masses and tides\n"
   ]
  },
  {
   "cell_type": "markdown",
   "metadata": {
    "id": "-pDVl5VLMFZR"
   },
   "source": [
    "1. Make a corner plot of the masses from the pickle file. Comment on the uncertainty in the component and chirp masses with respect to a binary black hole system. \n",
    "\n",
    "2. Are the masses alone sufficient to determine the BNS nature of GW170817? Compare these samples to the main results in the GW170817 detection paper and notice how the choice of prior influences the mass estimates (see, e.g., Fig. 4)\n",
    "\n",
    "Neutron stars, unlike black holes, can tidally deform as they inspiral and merge. The extent to which they merge is encoded in a parameter called $\\Lambda_{1,2}$ (1 or 2 for primary or secondary mass). For black holes $\\Lambda=0$. For neutron stars, it is a function of component mass and the relationship depends on the currently unknown equation of state.\n",
    "\n",
    "3. Make a corner plot of the component tidal deformability. Are the two compact obejcts unambiguously neutron stars? Despite this, why are we so confident that GW170817 originated from a BNS merger?"
   ]
  },
  {
   "cell_type": "markdown",
   "metadata": {
    "id": "yYopAnvPPHyg"
   },
   "source": [
    "# Spinning black holes?\n"
   ]
  },
  {
   "cell_type": "markdown",
   "metadata": {
    "id": "Edh4zGAfPQDF"
   },
   "source": [
    "1. Use GWOSC to download samples for GW's 190517, 190412, 190706 and 191109. Make corner plots of their component spins. Comment on the evidence for non-zero spin.\n",
    "\n",
    "* Similar to how chirp mass and mass ratio are better determined than component masses, there are better-constrained spin parameters. Two of these are the effective inspiral spin $\\chi_{\\mathrm{eff}}$ and the \"effective precession spin\" $\\chi_p$. Roughly, $\\chi_{\\mathrm{eff}}$ quantifies how much spin is aligned with the orbital angular momentum. Conversely, $\\chi_p$ quantifies how much spin is in the orbital plane and is a tracer for spin-orbit precession in a binary.\n",
    "\n",
    "2. Plot these spin variablbes and comment on the aligned and in-plane spin components."
   ]
  },
  {
   "cell_type": "markdown",
   "metadata": {
    "id": "58UnQ-gcQXAL"
   },
   "source": [
    "# Using bilby to infer the properties of GW150914"
   ]
  },
  {
   "cell_type": "markdown",
   "metadata": {
    "id": "mb5RkjvYQcGA"
   },
   "source": [
    "Follow the instructions [here](https://git.ligo.org/lscsoft/bilby/blob/master/examples/gw_examples/data_examples/GW150914.py) to obtain posterior samples for GW150914 using bilby. \n",
    "\n",
    "* Note the priors that are used.\n",
    "\n",
    "Hint: it might be useful to first run through the [notebook](https://github.com/rory-smith/Lectures-on-inference-in-GW-astronomy/blob/master/Lecture_3_high_dimensional_problems_and_sampling_algorithms_adelaide.ipynb) on using samplers to tackle high-dimensional inference problems "
   ]
  },
  {
   "cell_type": "code",
   "execution_count": null,
   "metadata": {
    "id": "hWA93hHLQH1w"
   },
   "outputs": [],
   "source": []
  }
 ],
 "metadata": {
  "colab": {
   "authorship_tag": "ABX9TyPRAN18NWjVb/gQuhEL9ZxQ",
   "include_colab_link": true,
   "name": "Exploring PE samples.ipynb",
   "provenance": []
  },
  "kernelspec": {
   "display_name": "Python 3 (ipykernel)",
   "language": "python",
   "name": "python3"
  },
  "language_info": {
   "codemirror_mode": {
    "name": "ipython",
    "version": 3
   },
   "file_extension": ".py",
   "mimetype": "text/x-python",
   "name": "python",
   "nbconvert_exporter": "python",
   "pygments_lexer": "ipython3",
   "version": "3.9.12"
  }
 },
 "nbformat": 4,
 "nbformat_minor": 1
}
